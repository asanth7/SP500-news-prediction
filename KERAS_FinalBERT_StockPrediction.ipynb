{
  "cells": [
    {
      "cell_type": "markdown",
      "metadata": {
        "id": "view-in-github",
        "colab_type": "text"
      },
      "source": [
        "<a href=\"https://colab.research.google.com/github/asanth7/SP500-news-prediction/blob/main/KERAS_FinalBERT_StockPrediction.ipynb\" target=\"_parent\"><img src=\"https://colab.research.google.com/assets/colab-badge.svg\" alt=\"Open In Colab\"/></a>"
      ]
    },
    {
      "cell_type": "code",
      "execution_count": null,
      "metadata": {
        "colab": {
          "base_uri": "https://localhost:8080/"
        },
        "id": "WbMVzcGDucgZ",
        "outputId": "82537804-f6e5-4565-d4a7-ba7fdcd18a85"
      },
      "outputs": [
        {
          "output_type": "stream",
          "name": "stdout",
          "text": [
            "Installing Magnitude.... (please wait, can take a while)\n",
            "  % Total    % Received % Xferd  Average Speed   Time    Time     Time  Current\n",
            "                                 Dload  Upload   Total   Spent    Left  Speed\n",
            "100   137  100   137    0     0    717      0 --:--:-- --:--:-- --:--:--   721\n"
          ]
        }
      ],
      "source": [
        "! echo \"Installing Magnitude.... (please wait, can take a while)\"\n",
        "! (curl https://raw.githubusercontent.com/plasticityai/magnitude/master/install-colab.sh | /bin/bash 1>/dev/null 2>/dev/null)\n",
        "! echo \"Done installing Magnitude.\""
      ]
    },
    {
      "cell_type": "code",
      "execution_count": null,
      "metadata": {
        "id": "6qsICwyUIkri"
      },
      "outputs": [],
      "source": [
        "!pip install transformers==4.9.0\n",
        "# !pip install --upgrade tensorflow\n",
        "# !pip install pytorch_warmup"
      ]
    },
    {
      "cell_type": "code",
      "execution_count": null,
      "metadata": {
        "id": "dqL3WbkdcjWm"
      },
      "outputs": [],
      "source": [
        "!pip3 install tensorflow==2.8\n",
        "!pip3 install keras==2.8\n",
        "!pip3 install -U segmentation-models"
      ]
    },
    {
      "cell_type": "code",
      "execution_count": null,
      "metadata": {
        "id": "1-U57_kgKCK-"
      },
      "outputs": [],
      "source": [
        "import torch\n",
        "from torch import nn\n",
        "from torch import optim\n",
        "import pytorch_warmup as warmup\n",
        "import pandas as pd\n",
        "import numpy as np\n",
        "from tqdm import tqdm\n",
        "from transformers import BertTokenizer, BertForSequenceClassification\n",
        "from sklearn.model_selection import train_test_split\n",
        "from sklearn.preprocessing import LabelEncoder\n",
        "from official.nlp import optimization  # to create AdamW optimizer"
      ]
    },
    {
      "cell_type": "code",
      "execution_count": null,
      "metadata": {
        "id": "cX4iFaEnK_Np"
      },
      "outputs": [],
      "source": [
        "df = pd.read_csv('/content/S&P500_RedditNews_labeled_data_INCREMENTED_LABELS.csv')\n",
        "df = df.dropna()\n",
        "df.head()"
      ]
    },
    {
      "cell_type": "code",
      "execution_count": null,
      "metadata": {
        "id": "Kta0jBfyZihw"
      },
      "outputs": [],
      "source": [
        "new_df = pd.DataFrame(columns=['Label', 'Headline'])\n",
        "\n",
        "for row in range(len(df)):\n",
        "  label = df.iloc[row]['Label']\n",
        "  for i in range(1, 26):\n",
        "    headline = df.iloc[row][i]\n",
        "    new_df = new_df.append({'Label': label, 'Headline': headline}, ignore_index=True)\n",
        "\n",
        "new_df"
      ]
    },
    {
      "cell_type": "code",
      "execution_count": null,
      "metadata": {
        "id": "vHBEfMixR3A7"
      },
      "outputs": [],
      "source": [
        "int_labels = [int(label) for label in new_df.Label.tolist()]\n",
        "# Find the name of the column by index\n",
        "\n",
        "new_df['Int_label'] = int_labels\n",
        "del new_df['Label']\n",
        "\n",
        "new_df.head()"
      ]
    },
    {
      "cell_type": "code",
      "execution_count": null,
      "metadata": {
        "id": "DZ1fD6dNaWN1"
      },
      "outputs": [],
      "source": [
        "new_df.groupby(['Int_label']).size().plot.bar()"
      ]
    },
    {
      "cell_type": "code",
      "execution_count": null,
      "metadata": {
        "id": "CSA2LU4cbCxK"
      },
      "outputs": [],
      "source": [
        "tokenizer = BertTokenizer.from_pretrained('bert-base-cased')\n",
        "\n",
        "example_text = 'Programming is a very challenging yet rewarding activity'\n",
        "bert_input = tokenizer(example_text,padding='max_length', max_length = 10,\n",
        "                       truncation=True, return_tensors=\"pt\")\n",
        "\n",
        "\n",
        "print(bert_input['input_ids'])\n",
        "print(bert_input['token_type_ids'])\n",
        "print(bert_input['attention_mask'])\n"
      ]
    },
    {
      "cell_type": "code",
      "execution_count": null,
      "metadata": {
        "id": "hf4QxVEmfD3k"
      },
      "outputs": [],
      "source": [
        "train_df, test_df = train_test_split(new_df, test_size=0.2)\n",
        "train_df, val_df = train_test_split(train_df, test_size=0.2)\n",
        "train_df.shape, val_df.shape, test_df.shape\n",
        "train_df.head()"
      ]
    },
    {
      "cell_type": "markdown",
      "metadata": {
        "id": "se9U45PeKpXv"
      },
      "source": [
        "KERAS BERT"
      ]
    },
    {
      "cell_type": "code",
      "execution_count": null,
      "metadata": {
        "id": "01Ew0py_NgNy"
      },
      "outputs": [],
      "source": [
        "!pip install transformers\n",
        "!pip install --upgrade tensorflow"
      ]
    },
    {
      "cell_type": "code",
      "execution_count": null,
      "metadata": {
        "id": "bbKcppLKZ8f3"
      },
      "outputs": [],
      "source": [
        "!pip install tensorflow_addons"
      ]
    },
    {
      "cell_type": "code",
      "execution_count": null,
      "metadata": {
        "id": "2kvtDdmKL6jm"
      },
      "outputs": [],
      "source": [
        "import transformers\n",
        "from transformers import BertTokenizer, TFBertModel, BertConfig, TFBertForSequenceClassification\n",
        "bert_tokenizer = BertTokenizer.from_pretrained(\"bert-base-cased\") #feel free to change the model\n",
        "bert_model = TFBertForSequenceClassification.from_pretrained('bert-base-cased',num_labels=8)"
      ]
    },
    {
      "cell_type": "code",
      "execution_count": null,
      "metadata": {
        "id": "2QoY2fYtP8bc"
      },
      "outputs": [],
      "source": [
        "def BERT_Tokenizer(sentences):\n",
        "  '''Input: list of sentences\n",
        "     Output: two numpy array\n",
        "  '''\n",
        "\n",
        "  idList = []\n",
        "  maskList = []\n",
        "  for sentence in sentences:\n",
        "    encoding = bert_tokenizer.encode_plus(sentence, add_special_tokens = True,\n",
        "                                              max_length=64,pad_to_max_length = True,\n",
        "                                              return_attention_mask = True)\n",
        "    idList.append(encoding['input_ids'])\n",
        "    maskList.append(encoding['attention_mask'])\n",
        "\n",
        "  return np.array(idList), np.array(maskList)\n",
        "\n",
        "X_train_ids, X_train_masks = BERT_Tokenizer(train_df.Headline)\n",
        "X_val_ids, X_val_masks = BERT_Tokenizer(val_df.Headline)\n",
        "y_train_array = np.array(train_df.Int_label)\n",
        "layer = keras.layers.CategoryEncoding(num_tokens=8, output_mode=\"one_hot\")\n",
        "one_hot_y_train = layer(y_train_array)\n",
        "print('One_hot_y_train shape: ' + str(one_hot_y_train.shape))\n",
        "y_val_array = np.array(val_df.Int_label)\n",
        "one_hot_y_val = layer(y_val_array)\n",
        "print('One_hot_y_val shape: ' + str(one_hot_y_val.shape))\n",
        "assert X_train_ids.shape[-1] == 64"
      ]
    },
    {
      "cell_type": "code",
      "execution_count": null,
      "metadata": {
        "id": "VC3TmAMAgJq8"
      },
      "outputs": [],
      "source": [
        "!pip install tensorflow_addons"
      ]
    },
    {
      "cell_type": "markdown",
      "metadata": {
        "id": "rGOjU1-3Yc8n"
      },
      "source": [
        "Time-Based LRS"
      ]
    },
    {
      "cell_type": "code",
      "execution_count": null,
      "metadata": {
        "id": "dQ5Op4OwWJ5J"
      },
      "outputs": [],
      "source": [
        "import tensorflow as tf\n",
        "from tensorflow_addons.optimizers import AdamW\n",
        "\n",
        "epochs = 5\n",
        "learning_rate = 0.1\n",
        "decay_rate = learning_rate / epochs\n",
        "momentum = 0.8\n",
        "optimizer = AdamW(lr=learning_rate, weight_decay=decay_rate)\n",
        "\n",
        "bert_model.compile(loss='categorical_crossentropy', optimizer=optimizer, metrics=['accuracy'])\n",
        "bert_model.fit([X_train_ids, X_train_masks], y_train_array, epochs=epochs, batch_size=50, validation_data = ([X_val_ids, X_val_masks], y_val_array),\n",
        "          verbose=1)"
      ]
    },
    {
      "cell_type": "markdown",
      "metadata": {
        "id": "xfzaRxKhQ1K5"
      },
      "source": [
        "**Training GloVe Model**"
      ]
    },
    {
      "cell_type": "code",
      "execution_count": null,
      "metadata": {
        "id": "smSVbeyxPoQe"
      },
      "outputs": [],
      "source": [
        "!wget http://nlp.stanford.edu/data/glove.6B.zip\n",
        "!unzip -q glove.6B.zip"
      ]
    },
    {
      "cell_type": "code",
      "execution_count": null,
      "metadata": {
        "id": "cszkvRfRaoH9"
      },
      "outputs": [],
      "source": [
        "!pip install -q tf-models-official==2.7.0"
      ]
    },
    {
      "cell_type": "code",
      "execution_count": null,
      "metadata": {
        "id": "Ghln9xJjS35e"
      },
      "outputs": [],
      "source": [
        "import keras\n",
        "import tensorflow as tf\n",
        "from keras.preprocessing.text import Tokenizer\n",
        "from keras.optimizers import rmsprop_v2\n",
        "from keras import layers\n",
        "from keras.layers import TextVectorization, Embedding, Dropout, MaxPooling1D, GlobalMaxPooling1D, BatchNormalization, Dense, Conv1D\n",
        "import numpy as np\n",
        "import os\n",
        "import pandas as pd\n",
        "from sklearn.model_selection import train_test_split\n",
        "from official.nlp import optimization  # to create AdamW optimizer"
      ]
    },
    {
      "cell_type": "code",
      "execution_count": null,
      "metadata": {
        "id": "U7KygSzZ_rrw"
      },
      "outputs": [],
      "source": [
        "df = pd.read_csv('/content/S&P500_RedditNews_labeled_data_final4.csv')\n",
        "df = df.dropna()\n",
        "df.head()"
      ]
    },
    {
      "cell_type": "code",
      "execution_count": null,
      "metadata": {
        "id": "G2zWClWY8eMX"
      },
      "outputs": [],
      "source": [
        "def createVocab(df):\n",
        "\n",
        "  new_df = pd.DataFrame(columns=['Label', 'Headline'])\n",
        "\n",
        "  for row in range(len(df)):\n",
        "    label = df.iloc[row]['Label']\n",
        "    for i in range(1, 26):\n",
        "      headline = df.iloc[row][i]\n",
        "      new_df = new_df.append({'Label': label, 'Headline': headline}, ignore_index=True)\n",
        "\n",
        "  train_df, test_df = train_test_split(new_df, test_size=0.2)\n",
        "  train_df, val_df = train_test_split(train_df, test_size=0.2)\n",
        "\n",
        "  print(train_df.shape, val_df.shape, test_df.shape)\n",
        "\n",
        "  headlines = []\n",
        "  for headline in train_df['Headline'].tolist():\n",
        "    headlines.append(headline)\n",
        "  for headline in val_df['Headline'].tolist():\n",
        "    headlines.append(headline)\n",
        "\n",
        "  train_labels = [int(label) for label in train_df.Label.tolist()]\n",
        "  val_labels = [int(label) for label in val_df.Label.tolist()]\n",
        "  test_labels = [int(label) for label in test_df.Label.tolist()]\n",
        "\n",
        "  print(new_df.groupby(['Label']).size().plot.bar())\n",
        "\n",
        "  return headlines, train_labels, val_labels, test_labels, train_df, val_df, test_df\n",
        "\n",
        "headlines, train_labels, val_labels, test_labels, train_df, val_df, test_df = createVocab(df)"
      ]
    },
    {
      "cell_type": "code",
      "execution_count": null,
      "metadata": {
        "id": "FedUF-GBNd3D"
      },
      "outputs": [],
      "source": [
        "vectorizer = TextVectorization(max_tokens=20000, output_sequence_length=300)\n",
        "text_ds = tf.data.Dataset.from_tensor_slices(headlines).batch(64)\n",
        "vectorizer.adapt(text_ds)\n",
        "\n",
        "vectorizer.get_vocabulary()[:5]"
      ]
    },
    {
      "cell_type": "code",
      "execution_count": null,
      "metadata": {
        "id": "qtoAgZF6PLfG"
      },
      "outputs": [],
      "source": [
        "vocab = vectorizer.get_vocabulary()\n",
        "word2idx = dict(zip(vocab, range(len(vocab))))"
      ]
    },
    {
      "cell_type": "code",
      "execution_count": null,
      "metadata": {
        "id": "vmPGjQnQNmqT"
      },
      "outputs": [],
      "source": [
        "output = vectorizer(['the cat sat on the mat'])\n",
        "output.numpy()[0, :6]"
      ]
    },
    {
      "cell_type": "code",
      "execution_count": null,
      "metadata": {
        "id": "M4ty2IX7OsZP"
      },
      "outputs": [],
      "source": [
        "test = ['the cat sat on the mat']\n",
        "[word2idx[word] for word in test[0].split()]"
      ]
    },
    {
      "cell_type": "code",
      "execution_count": null,
      "metadata": {
        "id": "RUwZPWF864nt"
      },
      "outputs": [],
      "source": [
        "# Embedding dict mapping words to NumPy vectorized representation\n",
        "\n",
        "glove_300d = '/content/glove.6B.300d.txt'\n",
        "glove_200d = '/content/glove.6B.200d.txt'\n",
        "\n",
        "embeddings_index = {}\n",
        "with open(glove_300d) as f:\n",
        "  for line in f:\n",
        "      word, coefs = line.split(maxsplit=1)\n",
        "      coefs = np.fromstring(coefs, \"f\", sep=\" \")\n",
        "      embeddings_index[word] = coefs\n",
        "  print(line)\n",
        "\n",
        "print(\"Found %s word vectors.\" % len(embeddings_index))"
      ]
    },
    {
      "cell_type": "code",
      "execution_count": null,
      "metadata": {
        "id": "tUViT-AAEq8D"
      },
      "outputs": [],
      "source": [
        "num_tokens = len(vocab) + 2\n",
        "embedding_dim = 300\n",
        "vector_exists = 0\n",
        "vector_nonexistant = 0\n",
        "\n",
        "# Prepare embedding matrix\n",
        "embedding_matrix = np.zeros((num_tokens, embedding_dim))\n",
        "for word, i in word2idx.items():\n",
        "    embedding_vector = embeddings_index.get(word)\n",
        "    if embedding_vector is not None:\n",
        "        # Words not found in embedding index will be all-zeros.\n",
        "        # This includes the representation for \"padding\" and \"OOV\"\n",
        "        embedding_matrix[i] = embedding_vector\n",
        "        vector_exists += 1\n",
        "    else:\n",
        "        vector_nonexistant += 1\n",
        "print(\"%d embedding vectors for words found, %d words not found in embedding index\" % (vector_exists, vector_nonexistant))\n"
      ]
    },
    {
      "cell_type": "code",
      "execution_count": null,
      "metadata": {
        "id": "mPdu2KYwA3aQ"
      },
      "outputs": [],
      "source": [
        "glove_embedding_layer = Embedding(\n",
        "    num_tokens,\n",
        "    embedding_dim,\n",
        "    embeddings_initializer=keras.initializers.Constant(embedding_matrix),\n",
        "    trainable=False)"
      ]
    },
    {
      "cell_type": "code",
      "execution_count": null,
      "metadata": {
        "id": "KxUgNLauSdU-"
      },
      "outputs": [],
      "source": [
        "print(np.array(headlines).shape)\n",
        "print(np.array(train_labels).shape)"
      ]
    },
    {
      "cell_type": "code",
      "execution_count": null,
      "metadata": {
        "id": "GVDOK3nyntjO"
      },
      "outputs": [],
      "source": [
        "from sklearn.utils.class_weight import compute_class_weight\n",
        "\n",
        "def set_class_weights():\n",
        "    class_weights = compute_class_weight('balanced', classes=np.unique(train_labels), y=train_labels)\n",
        "    class_weights = dict(enumerate(class_weights))\n",
        "    print('Class weights:', class_weights)\n",
        "    return class_weights\n",
        "\n",
        "class_weights = set_class_weights()"
      ]
    },
    {
      "cell_type": "code",
      "execution_count": null,
      "metadata": {
        "id": "taeZ3C_FMA7j"
      },
      "outputs": [],
      "source": [
        "def build_embedding_classifier_model(embedding_dim, output_bias=None):\n",
        "\n",
        "  if output_bias is not None:\n",
        "    output_bias = tf.keras.initializers.Constant(output_bias)\n",
        "\n",
        "  str_sequences_input = keras.Input(shape=(embedding_dim,))\n",
        "  embedded_sequences = glove_embedding_layer(str_sequences_input)\n",
        "  x = layers.Conv1D(64, 7, input_shape=[None, str_sequences_input])(embedded_sequences)\n",
        "  #x = Dropout(0.05)(x)\n",
        "  #x = layers.MaxPooling1D(3)(x)\n",
        "  x = layers.Conv1D(128, 7)(x)\n",
        "  #x = Dropout(0.05)(x)\n",
        "  #x = layers.MaxPooling1D(3)(x)\n",
        "  x = layers.Conv1D(64, 7)(x)\n",
        "  #x = Dropout(0.05)(x)\n",
        "  #x = layers.MaxPooling1D(3)(x)\n",
        "  x = layers.Conv1D(32, 7)(x)\n",
        "  #x = Dropout(0.05)(x)\n",
        "  x = layers.GlobalMaxPooling1D()(x)\n",
        "  x = layers.BatchNormalization()(x)\n",
        "  x = layers.Dense(32, activation=\"relu\")(x)\n",
        "  x = layers.Dropout(0.15)(x)\n",
        "  preds = layers.Dense(len(list(np.unique(train_labels))), activation='softmax')(x)\n",
        "  model = keras.Model(str_sequences_input, preds)\n",
        "  print(model.summary())\n",
        "\n",
        "  return model\n",
        "\n",
        "embedding_stock_model = build_embedding_classifier_model(embedding_dim)"
      ]
    },
    {
      "cell_type": "code",
      "execution_count": null,
      "metadata": {
        "id": "c7MjU_zNTszg"
      },
      "outputs": [],
      "source": [
        "train_headlines = vectorizer(np.array([[headline] for headline in train_df['Headline']])).numpy()\n",
        "val_headlines = vectorizer(np.array([[headline] for headline in val_df['Headline']])).numpy()\n",
        "test_headlines = vectorizer(np.array([[headline] for headline in test_df['Headline']])).numpy()\n",
        "\n",
        "train_labels = np.array(train_labels)\n",
        "val_labels = np.array(val_labels)\n",
        "test_labels = np.array(test_labels)"
      ]
    },
    {
      "cell_type": "code",
      "execution_count": null,
      "metadata": {
        "id": "KXh1ga9BZl4c"
      },
      "outputs": [],
      "source": [
        "loss = keras.losses.SparseCategoricalCrossentropy(from_logits=False)\n",
        "#loss = keras.losses.KLDivergence()\n",
        "metrics = tf.metrics.SparseCategoricalAccuracy()"
      ]
    },
    {
      "cell_type": "markdown",
      "metadata": {
        "id": "l5OyJo5erpj_"
      },
      "source": [
        "![image.png](data:image/png;base64,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)"
      ]
    },
    {
      "cell_type": "code",
      "execution_count": null,
      "metadata": {
        "id": "Gj31Laq1rsvl"
      },
      "outputs": [],
      "source": [
        "import math\n",
        "\n",
        "def lr_time_based_decay(epoch, lr):\n",
        "  decay = 0\n",
        "  if epoch is not 0:\n",
        "    decay = lr / epoch\n",
        "  return lr / (1 + decay * epoch)\n",
        "\n",
        "def lr_exp_decay(epoch, lr):\n",
        "    k = 0.2\n",
        "    return lr * math.exp(-k*epoch)"
      ]
    },
    {
      "cell_type": "code",
      "execution_count": null,
      "metadata": {
        "id": "xqy76nbPZyWk"
      },
      "outputs": [],
      "source": [
        "epochs = 15\n",
        "batch_size = 20\n",
        "#steps_per_epoch = tf.data.experimental.cardinality(train_df).numpy()\n",
        "steps_per_epoch = len(train_df) // batch_size\n",
        "num_train_steps = steps_per_epoch * epochs\n",
        "num_warmup_steps = int(0.1*num_train_steps)\n",
        "\n",
        "init_lr = 3e-5\n",
        "optimizer = optimization.create_optimizer(init_lr=init_lr,\n",
        "                                          num_train_steps=num_train_steps,\n",
        "                                          num_warmup_steps=num_warmup_steps,\n",
        "                                          optimizer_type='adamw')\n",
        "\n",
        "earlystop = tf.keras.callbacks.EarlyStopping(patience=5)\n",
        "lr_time_based_decay = tf.keras.callbacks.LearningRateScheduler(lr_time_based_decay)\n",
        "lr_exp_decay_callback = tf.keras.callbacks.LearningRateScheduler(lr_exp_decay)\n",
        "\n",
        "# MODEL 1: init_lr 3e-5, epochs = 5\n",
        "# MODEL 2: init_lr = 5e-5, epochs = 5\n",
        "# MODEL 3: init_lr = 5e-5, epochs = 10\n",
        "# MODEL 5: init_lr = 4e-5\n",
        "# MODEL 6: init_lr = 3e-5"
      ]
    },
    {
      "cell_type": "code",
      "execution_count": null,
      "metadata": {
        "id": "VylsI44mZZGA"
      },
      "outputs": [],
      "source": [
        "embedding_stock_model.compile(loss=loss, optimizer=optimizer, metrics=[metrics])\n",
        "embedding_stock_model.fit(train_headlines, train_labels, validation_data=(val_headlines, val_labels),\n",
        "                          class_weight=class_weights, batch_size=batch_size, epochs=epochs, callbacks=[earlystop])"
      ]
    },
    {
      "cell_type": "code",
      "source": [
        "tf.keras.utils.plot_model(embedding_stock_model, show_shapes=True, show_layer_names=True)"
      ],
      "metadata": {
        "id": "ecjGtD-gtjxY"
      },
      "execution_count": null,
      "outputs": []
    },
    {
      "cell_type": "code",
      "source": [
        "from sklearn.metrics import ConfusionMatrixDisplay\n",
        "from sklearn.metrics import confusion_matrix\n",
        "import matplotlib.pyplot as plt\n",
        "import numpy as np\n",
        "from tensorflow.keras.utils import to_categorical\n",
        "\n",
        "y_pred = np.array(embedding_stock_model.predict(test_headlines))\n",
        "#y_pred = y_pred.flatten()\n",
        "#print(test_df['Headline'].tolist()[:10])\n",
        "#p_pred = p_pred.round(2)\n",
        "\n",
        "y_pred = np.where(y_pred > 0.5, 1, 0)\n",
        "\n",
        "y_pred_final = np.array([label for label in y_pred])\n",
        "y_test = np.array(to_categorical(y=test_labels.tolist(), num_classes=6))\n",
        "\n",
        "labels = [str(label) for label in np.unique(test_labels)]\n",
        "#labels = [\"0\", \"1\"]\n",
        "\n",
        "cm = confusion_matrix(y_test.argmax(axis=1), y_pred_final.argmax(axis=1))\n",
        "\n",
        "disp = ConfusionMatrixDisplay(confusion_matrix=cm, display_labels=labels)\n",
        "\n",
        "disp.plot(cmap=plt.cm.Blues)\n",
        "plt.show()"
      ],
      "metadata": {
        "id": "Gxi2tQydCvt6"
      },
      "execution_count": null,
      "outputs": []
    },
    {
      "cell_type": "code",
      "source": [
        "# BEST MULTICLASS - 45%\n",
        "\n",
        "# def build_embedding_classifier_model(embedding_dim, output_bias=None):\n",
        "\n",
        "#   if output_bias is not None:\n",
        "#     output_bias = tf.keras.initializers.Constant(output_bias)\n",
        "\n",
        "#   str_sequences_input = keras.Input(shape=(embedding_dim,))\n",
        "#   embedded_sequences = glove_embedding_layer(str_sequences_input)\n",
        "#   x = layers.Conv1D(64, 7, input_shape=[None, str_sequences_input])(embedded_sequences)\n",
        "#   #x = Dropout(0.05)(x)\n",
        "#   x = layers.MaxPooling1D(3)(x)\n",
        "#   x = layers.Conv1D(128, 7)(x)\n",
        "#   #x = Dropout(0.05)(x)\n",
        "#   x = layers.MaxPooling1D(3)(x)\n",
        "#   x = layers.Conv1D(64, 7)(x)\n",
        "#   #x = Dropout(0.05)(x)\n",
        "#   x = layers.MaxPooling1D(3)(x)\n",
        "#   x = layers.Conv1D(32, 7)(x)\n",
        "#   #x = Dropout(0.05)(x)\n",
        "#   x = layers.GlobalMaxPooling1D()(x)\n",
        "#   x = layers.BatchNormalization()(x)\n",
        "#   x = layers.Dense(8, activation=\"relu\")(x)\n",
        "#   x = layers.Dropout(0.15)(x)\n",
        "#   preds = layers.Dense(len(list(np.unique(train_labels))), activation='softmax')(x)\n",
        "#   model = keras.Model(str_sequences_input, preds)\n",
        "#   print(model.summary())\n",
        "\n",
        "#   return model\n",
        "\n",
        "# embedding_stock_model = build_embedding_classifier_model(embedding_dim)"
      ],
      "metadata": {
        "id": "joRIItPNzqfw"
      },
      "execution_count": null,
      "outputs": []
    },
    {
      "cell_type": "markdown",
      "source": [
        "![image.png](data:image/png;base64,iVBORw0KGgoAAAANSUhEUgAAAm0AAAIKCAYAAABx+nhcAAAAAXNSR0IArs4c6QAAAARnQU1BAACxjwv8YQUAAAAJcEhZcwAAHYcAAB2HAY/l8WUAANGQSURBVHhe7P13lF3JdaeJbgCJ9N7De+9N+SqySKpEiqJYMpRmSmqJVD2qSuLMmqWlnuk1a+YfTq+ennl6Iz61WpRILDabzddidY/YIxXZEkVXLKI8XMF7nwASifTeAAm8+Pa9B7hAJhJA3gPkzby/ryqQJ8+Jc+49kXFO/GLvHRHTbgRMCCGEEEJkNNOTP4UQQgghRAYj0SaEEEIIMQmQaBNCCCGEmARItAkhhBBCTAIk2oQQQgghJgESbUIIIYQQkwCJNiGEEEKISYBEmxBCCCHEJCBrJ9ft6uqy8+fPW3d3t+Xk5Nj06dKvQgghJg/Xr1+3a9euWUlJic2fP99KS0uTRx4tnZ1ddvb8Bevo7DSLUVLkzJhuBfl5Vl5eZnV1dVZUVJQ8kr1krWg7ePCgvfbaa3bs+PFQEYotNzc3eURETEv+FEIIkXkMDQ1Zb2+PLV++3F566SVbu3Zt8sijZd+Bw/Yf/uZvbe/+g3bj+nAQbteTR9KjtKTQZtdW2sYN6+yFF16wxYsXJ49kL1kr2t577z37s698xY4ePWZLly2zysqq5BERMS2otmmSbkIIkZG0tbbaiZPHbeWKFfYnf/In9tRTTyWPPFp+/vZ79r/966+EnzvNcvJCw5GTPJIeFSW5tqCu2J5/9nH7vd/7PduwYUPySPaStaJt586d9pdf/Svr7Oqyz/zKr9ryFSuTRwQg2KZPR7JJtAkhRCZy7NgR+/7f/72VlpbYf/fffckee+yx5JFHy8/fete+/L//X7Z9xyGbUbrApuWVJ4+kR3HOoM0q6LSPPrHGvvjFL9qmTZuSR7KXrBVtu3fvtq99fZsNX79hX3j5D2zT5i3JIwIi0TadDSGEEBnHntCOffMb28J72uzVV1+xLVsmph1z0fav/tS27zphOdVrbHphbfJIehRN67La6RfsuS3L7JVXJu7+MglF3wshhBAiTejgP6wkIiTahBBCCJE+rrHCP3EmcRsSbUIIIYRID9dXkdgK0iKOJCvbCCgVIYQQQoj0uE24xZQk3G5Dok0IIYQQ8eBCSzwsJNqEEEIIEQNJwXantSytlLikSCDRJoQQQog0SaorhJZvx5HEnUi0CSGEECIGkmJrhLVsnEnCbQQSbUIIIYTIPKTZRiDRJoQQQoj0ceNY0koWR4osd+ImEm1CCCGESI/btFWq4EojuXATqUi0CSGEECJ97rSUpZvECCTahBBCCBETcYotCbc7kWgTQgghRBogrpICyzfDP7Gk5PXETSTahBBCCBEDSZU12jqi40pSbXcSSkUIIYQQIgZGWMvSSBJsI5BoE0IIIUQMREIrpuTCTaQi0SaEEEKI9HGtlRRbcaSbAk5ESLQJIYQQQkwCJNqEEEIIMX5uGsXCP7En/wSRRKJNCCGEEDGByooriTuRaBNCCCFEfIxqMRtHknAbgUSbEEIIIdIkKbJuiq0YkoTbCKbdCCS3s4rdu3fb176+zYav37AvvPwHtmnzluSRB6NvYMjaOnqsu3fA+gev2vDwdZsxfZqVFBdYfXWZlRTle77roZivX79uff1D1tLeY719g3ZteNiP5cyYYUWFeVZdUWxFBXk2PZwP18N36+0ftLbOXv957dp1489FPS7Iz7XKsiIrLsy3mTkzbMaMePU3n8H3mO4PzaPn6rVhGwjlSbm2h/tnm4qaOzNRVpRraSjj/NyZiROyjKjedfVQ74aS9W56qHf5Nqum/Ga9y3ZUj8ZG5TM2mV4+e0I79s1vbAvvabNXX33FtmwZXzuWLj9/+z378r/+M9v+4VnLmb3VphfPTh5Jj6LrrVY7dMye27jAXnll4u4vk5jx5UByO6tobGy0XaHCI1k3btpis2aNr5I1tXTajv2n7e3dx237zmP2/t6Ttv/4Bevo6vPGs6q82PMNB8E2NHTNzje22vZdx0Le47bjwBnbe+S8HTtz2Tq7+6yspDC8APKDWJru32vo6jW7cLnd3v3wpL2756TtOnjG9hw+ZweOXbAr4XPz82ZaQUFueIHkWE4QbnGCVpsW/iFNBIjbS1c67GAoy5++d8Te3HHMdh86a8fPNnnZIl55WSJysxHq3fv7Tntd+nkoG+rIvmMN1tEZ6l1t2c16l+2oHo2NymdsMr18aMc+3LPb39dbt26x2bPjEUsPyrnzF+zNt96zc02dNr10jk3LL4sakbRS7o3+INxabEF9uQu2ibq/TCJj3aPXrl2z7u5uu3jxoh04cMB27Njhae/evXby5Em7cuWKDQ4OJnNPHFg4esODjcWjp2/Amtu77djpy3by3BXrCb2ziIHBa3a5pcvOXWq1hsY2zzcYRByJ7YbGdjsfjl0OjTG9OdLl5k47d7E17G+zK61dfg2sb4NDV936dur8FTt7ocWtcFMFXoKkrp5+F7NHTjdaa0ePDQYBey2UNT3eE+GFSRm3tvd4OfE3yDYoC6y11Ltu6l1btx051WjHzzWFejd16sN4UT0aG5XP2Kh8xknQWqOJr3Gnm65SEZGxlrbe3l4XbPv27bN/+qd/sp/85Cf2wQcf2NGjR629vd1djWVlZVZUVJQ848GIy9KGi5OHtby00JbMr7OK0iLr6O5z0/mmVfPd2gY82AdCbw2Rxctgwewqe3brMlu9dLZbytiHy+vatWGrLC9yMYfF7nRDs10NAnZ2XYU9s2WZPbZ2oS2eV2P5ebl29mKLdXb325xwDFdpnCSemYmxtFEWCNWfvHvIReyGUI7PbF5mj69f5C7kMxda/WVaV11qZaGXO/MhWBozHdw2WG+pd0vn11pF+PtH9W7z6gU2qzZR77IZ1aOxUfmMzWQon4y0tJXMtWl5Jckj6ZF7I7zThrG0lcnSliRjLW1dXV12+PBhO3TokLW0tLhVbTgIJPYj3DjW3Nzs+xFwE0VBEE+IphWLZtmaZXOCcKux4tBw3klP/6ALsMbmTm9oVy6eZRtWzvfENvsamzvsVMjT0zfoAq7hcptdaeuywoJcWzin2tYsnWMbw4uDc2bVlIWeX29CuIUXB404VrjJDgIYl0R7V681tXa5eOXetwSxumXNQlu+qN5KivJsYOiqW5dIWB6zDWIaqXcrQ71bu3yuCzfiG0UC1aOxUfmMjcpnvCQ7+Ylef/pJVrYRZKRoo4eDUHv//fftzJkztnnzZvvCF75gr776qr3wwgs2NDRkx48fd0tcR0eHXb06cQ9LXm6O1VaWem+LoFSsZtFAglT6gwi72NTu1hAGKCyaW21FQYyR2GYfMRIXL7d7XkQYvTjM8ZVlxVZXVWr54bPoyRH3VliQZ0Phvrt6+90t6+b5CRSvccH94oZAiBLsi5gledmG+y8JwmRBeHnWVpa4i/hCKNP+gex7WVIXakOdqK8ptdKo3vlLToDq0diofMZG5TMeku+fm2IrhsQPcRsZJ9qIZcM12tbW5qbfgYEBW7RokT3++OP2xBNP2KpVq6ykpMT3NzU1eWJ7okBE4ZLCyoGAYxTnaC7FoavD/nATf1ZWUmA1FSUh/0xP1WG7NOyLRoqSN9HRSFwHSyKCDDta0LOhF3jDBylgkfNYut7kCMIpINoQq7wo+0JZUJ4uUPNzfTsnlC2DL2oqij34l/uP4kyyDeodFt171btsRfVobFQ+Y6PyGS+8g7zxiidJtY0g40QbVjSsbFjQ8vLyrLKy0lNpaWno4eT6z8WLF1tdXZ0Lu4aGBuvr60uenbkgvDClXw2CDKtIfngBMEUD04MUhBcA+zhGHvLOzMmx8pJCywv7m1q6fBQpLlNGoPKCwGTf3tXn1jiCYrHOYdKf7HAP9FgRrghaXpSp05mwjZWR3i7ClbxT4b5FvKgejY3KZ2xUPmkgnfVQyTjRhquzs7PTrW2INkRaYWGhC7YZM2YEsZNvtbW1PgiB0aUIPITe3eBYa2urnTt3zg4ePOjzs5GIi+tob3fLHu7Yhw2fMXztused8cAztxpuVKwjWE0QcBwjD3l5Scyrr3S3K7ESFxrb7MjJSz6Y4ejpRne18rLgGrwsGMDwKO7jYcM90MvlnrycZibKKQIXIGXH3HbMsUfeqXDfIl5Uj8ZG5TM2Kp90COUUyifWJG6ScaINEYXlDLGFQGN0aE5OTvIoPZwZLuIQdOQhL+fcDYQd8W9vvvmmvfbaa7Zt2zZPr7/+usfLDQ4M2PXkJLcTidfLKAWYJHXV0lkeaI4p/nwQbT/Yvt+++8Od9tbu4z4AgRcGo1Xp7aliCyGEyAxSG7R0k0gl40QbrkHEGEIMgTZz5sygR2794Zh4FqsbQo485J3I0aP3C/cwI2e699bovdEzw7JG54x5f7xHF44RL0FeZthm8MGCOVW2cG6NjxZlmg96fQX5M30yR8QcMRb+0wdAZNyf84Hh3unBcp9eTldvHxXLyhKUHVOtUF7kTa0fQoDq0diofMZG5TNOKIM4kxjB5G/l7wGDFpYvX27PP/+8vfTSS74UBunFF1/0AQ55+fk2PYjDhw2CCiGGmR235gAxaEFskthmH25SBBiuUsQdcW111WX25MYl9tlPbLLf/syTnn71E5vt8XWLrDgIN14ouFIJSkfwTXYiUcqILdzCxPFxjxFsExxMbB9xgOTlHCFSUT0aG5XP2Kh8xsFNjRWj2JJwG0HG1bJUSxrzshHjlhorkGqJIw95x7IwcbyqqsoWLFhga9eu9Qn6SCtXrrTyigq/xqPoIfHwMwFuYX6eT4ibWBHhqie22Yf1DHcnwi4CETe7ttznBVq7fI67S7HAMfSc+dsQbATERmJvskOPlRFZlBNzIzHQom9g0LexSDK1SXN7j3WF8kKoVpUVu5VRiFRUj8ZG5TM2Kp8HhTY0pOSP26xl6SQxgoxr5RFR0cADpvJgQEJqzBpCjjg2JtUlD3k5J9NhMtTZdeVWXlrgs2uf8eWnhjyxzT5GizJhKnkxxWN9oyfHIAPEKtKVSXqZgJd5gRBstdVl/tLAKpcaKDtZoddaVV7kL0xekO2dfT5/HdOaUB4s2XTuYotdaet2gTunnvLKzsWsxd1RPRoblc/YqHzGSyS4grSIJdGmSbylEkolsyCGLVqeCmHGCgjRwAQEG0KOdUcZYYrrEysa4m2iYNZs1hJlROfBExftxLkmY6WClnbWgrxkB441+HqjPOhz6yt9WSum6jh6qtH2HT3viW321deU+RJVuD3pzWGSv9La5dfec+icfRgS+Q+fvOjzubFU0bL5tb6ECqb5qRBTgYuX3m1FaaFbFInZO3ux1Rdp3n3wrK/11xVenOyvqSqxmsrEfHfZBq6Z842tiTp2PNS7s6HedfaEetcT6scl20+9C41KYt6/7Js/SvVobFQ+Y6PySYdIuMWVkpcVTsatPYrwQIQxTceuXbtcsK1YscKqq6vdDcoqCNu3b/c52nBxcqympsZHmj4Ica09ioXs3Q9P2tu7j9v7e0/ZnsPnEo1lR481XumwS80dbkrnJVBTWeo9OCxrJ85dDmLssi/yfelKu8/btn75XFu5ZLZVlhfbjes3vME9fvayvfH+UXtr5zH78EgQeEHAMUcby2etWzbXl86qDtfl5REniedlYtYe5TN9ouDwk2DfE6EMeFnuO9LgS3vhCl66oM7vHxGMK2MqWBkfhMZQ797Zc9K27zpu74X6h6hnXVs6DNS5S6HuUe9wmTMBL9bbbEP1aGxUPmMzGcono9YefZu1R7ttevk8m5ZXFvZSFuml3Ou9VnS1yRbUlWrt0SQZZ2mL3KNMqFtfX+9Te5w+fdoXiycdOXLErW/sZ742EtsTDQ9rFLdG/BkPc3HRLSHJA85SVSwUz/xriRURchI9tdBLYx8jReurS0Ne4uyCog4N7ozp4UUQfnHxFP5H9Lk5vrbcrXJY73CTThW4TxIxeytCOa4KIrYqiFjuG2si+5eFsuUYizZTrtkcAEzdoGwqy4tsxeJ6W7awzpfYyXZUj8ZG5TM2Kp90oK2KKd0UcCJi2o0MnRHwwoULLtJYMP78+fMu1LC0IdBwnWJh+8QnPmFLly51y9xYgxFGgwl2v/b1baEndcO+8PIf2KbNW5JHHgzco6xQ0N3bbwND17xHFk1BguhitYPSkkKPO8PawdBx8vf2DbgLFLDCFYWGloefwQXcS2LAxbVwXZa26jFWPACO0aPjej6woSDPBSMvmDjhclwXUTARUI7cM0vEtHf2Wv9gYl2/6N55aRJvwssyG8E92kK96xlIrLTh9S7xKHu9y5/pbvOSkCgvGptsRPVobFQ+Y5Pp5bMntGPf/Ma28J42e/XVV9waNRH8/O337cv/x1ds+/4LljP/aZteNi95JD2wstX27rfn1s3xWR8m6v4yiYwVbUyKi3DDsrZjxw7f5qtigVu2bJmvQbp+/Xpfzmo8xCXapioTLdqEEEKMTcaJtgMX4xVtQ4i2fRJtKWSsPbegoMDmzp3ri8T/zu/8jv0P/8P/4Onll1+2T3/60y7YysvLk7mFEEIIMWHc7N+zEVPih7iNjBVtxLYxOnTOnDm2bt06e/zxx13Abdq0yV2iWNgyIZZNCCGEEIGbegvBFUOSahuBIieFEEIIkSaRyHoYSURItAkhhBAiHkazmKWVktcVjkSbEEIIIWIAhYXQCtIiliTFdiehVIQQQgghYmCEpSyNJPfoCCTahBBCCBETMYos6bURSLQJIYQQIn3cQhb9jCHFrNqY//XYsWO2Z88e279/v505c8Z6e3uTk9kP+fKYHGce1507d/rPAwcO2NmzZz1f6rS2bLOPY+RJPYdrcC2uGU22D6ynztrpJ0+etL179/octCTOv3Tpkn+/a9fGXis649YefVTEtfboVCXxzMS/0oIQQoh4yKy1Rz+wc1dYe3ShTctnDtVIdI0/5Q53W9Fgoy2oLUl77VFEFiLt+9//vr3xxht2+PBhX2mJ6cOKi4utp6fHjh8/bj/84Q/txz/+sb333nv24YcfusDiWFVVlZWVld1sExFjTPrPWug/+9nP7K233vJzEGMIs9LSUp+2jOnLZsyY4ecg5BCL5PvpT39qb775pou2c+fO+XVZQ505aseazkyWNiGEEEKMn5s6K/wTe/JPSIvIwoVVDGGGYDt48KCva44g6+vr82MnTpywixcvWkdHh129etX6+/tdmJ06dcoaGhqspaXFrWcktllik2PkIS/ncC7X4FqIMa6NwOM7NDc3+ypPWOIQjMPDwzevxfeJhORYSLQJIYQQYsqCEEIsYTVj/W4sZjNn3lovtr293d2aCK1Zs2bZL/7iL9oXvvAF+9znPmeLFy92YYU44zguTBLb7OMYecjLOZyLRRBxuGvXLr92qphDsCHgXnjhBXv11Vft85//vG3evNmtgFjgEHBjrS4q0SaEEEKI+BjVYjaOdNOENz4QPwgmhBMii7gxBBsrLeGGjECEIbI4jmhDRLEK08aNG12QFRYW+rEoBo6ElY59HCMPeTmHc+vr6/0Y1+TaAwMD1tTU5AnBhuuU9dOjlZ44nzy4u3Ghcv27xbZJtAkhhBAiHlxsxUSal0L44J7EeoWrEmsXa5ovW7bM480icG0imKIYt4ULF7oYI9aNZTOxnCGmcIdyPRLuUvZxjDzk5RzO5Rpci2tybfJzLvk5hkjj84ld42dFRYVVVlb673zHyA07GhJtQgghhEibm7axINziSFjKEF4ImWhUZ2oiDgwx1traOqrIwWKFdYyYM66HMEI0MaggNzf35vWxfkXWLURUeXm5H2dgAPn5HYtZJKZIbBMPxzHykJdz+J1rcC2uGV2beDaugaWvtrbWLX0MUOAcxB7WN0QbeTs7O91COBoSbUIIIYRIi5tGsSCO4oIAftyGCK/XX3/dtm3bdlt67bXXfARm5Ia8EyxbjM7ENbpo0SLbunWrCzcEHEQDBBBIjPJEQPGTuDdAVCGoEFMINSxmiDES2+xDrBUVFfl5wLnRtTifa5MXgTdafrjb54yGRJsQQggh0sYtZNHPGNJ4QfDgnsS6RfA/1ivcopEbMwLRRl5GcfJ5iKfUz0WARUKOfAgqziGxzT7OYVBD6nnRtTg/GiGKOLxb/rt9zmhItAkhhBAiHhAj6JEYEiImvyDfrWQvvviivfLKK7ell156yZ5//nlbvnz5bTFqWKpwiTIYABdo5JKM3KKTGYk2IYQQQqRBUmVFP4Jwiysh3IgTW7FihU+wm5rWrl1rCxYsGCHGcKki2BgsQLxbtArBoUOHfC40pupgH5Y4YuIQeLgvsYqlTreRalHje/AZWMVSLWOcgws09Ty22c/5WNbIi+vzbvnv9jmjIdEmhBBCiFhAt8XGOC+GaIsm0yWejfnPvv3tb9tf//Vf29/8zd/4qgesTICIY0WD999/3y5fvnxTOEWuSQQWVjtcmwgp4s4QVSS22cdnRYMYgHMjFyfn4wolL27Z0fLD3T5nNCTahBBCCBEDCVPbaBazcaXkfw8KQgmXKPOl4Volng0hdCd8BpYwrGAMDmCbAQ2MVkV0IbCYW43fEV3V1dUuqkhY99jHMfKQl3P4nWsgurhmdO2amhp34TIyFEHJVCCINc5BsBGDh2gj752T/6Yi0SaEEEKIWAg6KD7GeS3mPWOS2ygO7k/+5E/sj//4j+2P/uiP7Hd+53fsk5/8pK1fv94TKxiQ1q1b59NuYHHDQoeQwmWKWxVXK6NO582b5+KPNH/+fN/HsWh9Us7hXEQc12KiXqb2SM3PMSbmRdgh0vjJ5L+MdOV3XMGROBwNiTYhhBBCxMYIi9k403hhWg0EUxQH9+STT3piyg/E2ZIlS3xgAontNWvW+IoGTJSLaGMOOKYKYfF34t8QYxxjUlwsYSQseOzD1Uke8nIO5zKpLp/PJL5Y47C2RZ/HNlY1Yus++OADT4g49mMZRNhxfblHhRBCCPFwSUNs3UmQbsmthwuWOcQdIgvL2Y9+9CP79//+39vf/u3fuqDCVYm4i1ZSQIixjYjDIkYe8nIO53INjnNNrk0eLGgsn8V+rvfjH//Yvv71r9u3vvUt27Nnj4vAp556yt2uYwlWiTYhhBBCpA1aA7lxp8VsvClxMb90LGC9QnBh0WKaEEQXv2PZYvkpBBXCKhJauDWJh0Ow4RqN3JZYxdjG5cmxKGaOY5wbiTOuybUZCYr1j7i21atX28qVK919GsXTcS1GwrIeKfFsYzHtRuq40ywCE+bXvr7Nhq/fsC+8/Ae2afOW5BEBPC/Tp0+z6WwIIYTIOPaEduyb39gW3tNmr776ilt2JoKfv/OB/W//7z+3tw9fttylH7MZFYuSR9KjoP+CVbV9YM+uqvPYtHTvjxGb0ehNXJSIOFyWxJ1xjPgypgHhOKNAo6k9sK4hrBBgLiYDSCfysZwV5zGgIDqHfNHAAz4jmr6DmLVooEJ0Dtfj83GLIuTYvptrFLJetF0bvmGff/mLtnGTRFsqvARyZjAfjUSbEEJkIhkr2ipjEm198Yq2qUDWukdRqujV4ZCuXb9hV4evK6UkyuR6dup5IYQQD0iie8+/8XX0I6uWuEVWx7QlhBuT4YXET6XbkhBCCHG/oLESafQYtQdNYiQaiCCEEEKIWBhNfKWV4hyJMAWQaBNCCCFEDCCw7hBdaaTk5UQKEm1CCCGEiAW0VlwE6ZbcEhESbUIIIYRIn6TGGs1qNp4kRiLRJoQQQoj0iDRWnFpLum0EEm1CCCGEiA/EVhxJjECiTQghhBAxEZ/akot0JBJtQgghhEgbNFYijR6j9qBJjESiTQghhBBpgsiKknhYSLQJIYQQYtykyjUMZKNZzdJJ4hYSbUIIIYSICVRb4kcsSdyGRJsQQggh0icptEazlo0niZFItAkhhBAiFuLUWhJuI5FoE0IIIcT4SVrYoo07LWbjTWIkEm1CCCGEiIU4pVaQbsktESHRJoQQQoj0SRjaRrWajSdF1xO3kGgTQgghRExIZT1MJNqEEEIIkTaRYWw0q9m4UvI/cQuJNiGEEEKkSVKyBbEVG9JrI5BoE0IIIUTaJGXbSIvZOJMYiUSbEEIIIeIhTq0l3TYCiTYhhBBCpE8kstzcln6a5hsiFYk2IYQQQsTCaG7O8aabAk7cRKJNCCGEEOnjQmt0ATauJMU2Aok2IYQQQsRCrDJLmm0EEm1CCCGEiI1RrWbjScn/xC0k2oQQQggRD3FqLOm1EUy7EUhuZxW7du+2v/7a123o2g373S980TZs2pw88mBQfJRgb/+gNbd2+U9+D3v5x3JypltBfq4VF+ZbaXGB52/v7LWevkEbunrNrl+/7teZPn2a5cyYYUWFeVZRVuTnTA89javXhq0vXLO7d8A6u/tscOiazZgx3Y9B7swcvzbnkfg9DmaE75M/c3r4ThOr67t6+u3SlY5QXgMpva8EbBeHe66vLrPiovzk3uyC+nT9+g3rGxi01o5e6w31ijoznKxX1KOqUJ8on7zcHK9jU4m+gSFr6+gJ9WTA+geHbHj4eqi7062kON9m1ZRbSbJeXPdyuh7KZyiUU7c/f9dCXqCOU4+qK0qsqCDPn0XqVjZAXRkYvOrvF95LbNMg5M5MvIsoP95b+bkzEydkGZlePntCO/bNb2wL7YHZq6++Ylu2bEkeebRsf/cD+5d/+hf23okWK17zi5ZbuzR5JD1yu85Z8YXt9uSyKnvllYm7v0xCoi1N0UaDSQN5pqHZ3vzgiJ250Oz7aCAoWhqPOXWVtmR+ra1ZNteuhZfAroNn7NT5KzdfAqi83NCg0rAumltjW9ctsrn1VS74uoNoOXuhxY6dabQDxxpCg9PjDXFOTqLxrQwN8tL5dbY4XJ9zEXxxkCmi7ejpRnv9px/aiXNNNjPcMw0y7SmNKsJ16YI6+9Rza/1nNoJIQfyfb2y1D/adDvWq2cX9QBD3yI459RX2xIbFtnxh3U1RMpW4cLnN3g/3feTUJbvU1OEiLj9vpq1aPMs+/fz6cN/1nu/a8LANhTI5E56ld/ac8Oevp3/IjxUX5Prz+eyWZf4M0fGhY5QNIEboFB0/c9n2HDrn23Q4y0sLvUxWLKq31UtnW21lafKM7CLTyycjRdvaT1puzZLkkfSQaBtJxr2Z+vv7raGhwQ4ePGg7d+609957z3bs2GHHjh2z7u7uZK4MA6Na0uJBinQw//b0DrqgOxlER0t7t/WGhmLo6nAin+dKgHhrau60c5daQkPU7nlpZMjbERrhy+HY+Uut/tOFXpbAS/NYeGEi3tq7+rzxzc5uxuggUhAup0MduxhES1voCFBnqFyRdQlhNzxMvUyeNIXAWoZ1EUtbd9+ANbd1BwHXaMfD88azF8Ezw7NzLjxDDY1tdiXkGxy66olt9p292GqNIU9/FjxfvKNIWLJ5vo6E54sO4WDoAFCmPHcnzjbZsdOXrbW9x8uPepQtqHzGh3eo/WfSK5JmSlzMLy2SzPhyILmdEVy+fNneeecde+ONN+wnP/mJbd++3fbs2WNtbW02Z84cq66uTuZMj0uNjbZr127jOduwcbPVz5qVPDIOQqWamZNjVRXF3rPfsHK+rQ9p3fK5oUdWZBea2vwhrywrtpLiAqsqL7bF82pCD21OyDfP886qLXdTvLu2wpfihVFWUuCXpyHq7u0P+8zmz662jz252p7ZvMzWr5jn1rvF82qttqrUzfVxWQiwYuXMmOauoomEnu2ug2f9vn7x2TX2iSdX2Za1C23LmgW2afUC7+XiHsVSmY00tXbajv1n7FQQbViIqFdPbVrqadOq+V7H5tRVeF0qyMudcMtp3ESuYCwfS+fXuqWZTg7PwuZQP3iuoCU0rPuONbiljQ7TgjnV9pHHVtiaUD4zQ7nxvCGAr4ZOAdbryK06leGez19qs5+8e8gut3TahlBfeK88vn6RVYd32ZkLrS5a6qpLrSy8tyinyMKfDUyG8mkM7diHe3YHgWO2desWmz17dvLIo+Vcw0W3tl1o67fcuqU2o6gyeSQ9cgY73do2t7LQrWwTdX+ZRMa9wa9du2Y9PT3W2dnplrWmpiY7dOiQHT161Lq6upK5MgsEDi95Gsy1QUitQ4jxM6T5syv94e/s6nNXJ8qLh3xZEHdrls3xPCTce2Ulhd6gtHf13rKYJOFlQOzE7LpyW7F4lgs90sols23urEpvrOKKZ8tEcOstnlvjZbUxvDwRbPyk3LIxno06hbjv7O53qxKuQcQGIm1jqBebg6glrVoyy+qCoC/EpT4FXX6ECiBKVy6aZWtDJwnhRoznnRDDhuu4MXQCEHiUy8bwnJLYrigrtEvNHe42xXI31aHu9PUP+bumqbXLY2UXBiGb6BAttOWL6sM7Lc8Ghq56p5GEVTJbUPk8KAmTWOLfkJKWsnSTGEnGvcWLi4tt6dKl9swzz9iv/dqv2QsvvGB1dZkfr+QDCYKwIg4tMUjght1Iuks9hUY2kW+6x2aRUq1YHOdFQQLVVzEW1Kmh0MHBJdjU0uVWorn1FbZkfo1bmag+1DXqJFZIBP1EW00fBvnh3rAy19eUWmkQ736fozw8/aF8Lja1eyM8q6bMOwCUE4ltrLUdoaNEaAJlOdXBzYe7rzN0JAmqR8iS6HxSX0qC8MUaWVtZ4h3IC6Hs+geyR5SofNIhvveMhNtIMk60FRYW2vz582316tW2ceNGW758uZWUlCSPZh6pPQIai/7QOzvdcMX2Hjlvuw+d8Vg2hFhpUYEVh1RYkOtmdILHcf0xwGBfyHvk5KXQW+vyxhiLG67UVMsZAxgwxWMpOHa60Q4eb7Cjpy7Z+UstHnh+NVwvGok6FWEELa6tg8cv2L6j5+3wyYse48fIQWL/sg1cggOhkejrG3KLAKOWccFfae3y+nEglBPB09SxgcFQPlP03YcoZeQn1jVGx+JGH+1Fz/PW1tHrZcXzVRMa27zcmZ7YZh/xpuQh71QHtzKChOeKcistzndrbGKE8XQfzFFTUezWfayUUTxXtqDyGSc8eiFF7WK6SYwk40Rbfn6+W9bwXZeWllpeHkPwJ4dbB5fV5eYO+/E7B+3bf/e2feP/ftN+9PZBb2Dnzqqy2bXlVlmeEGP0znbtP23f+8mH9u2/f9v+/se7vJHlGpjh3e0XGqOIhKWgzXYfPBvO2WP/6b++b3//k9329q7jHoiOdSCy0k01eHgJFv/ZB0fsO+G+v/3379p3/2mXvb37eBDFV8JLcyCZM3u4du26NxbUCxoRXHrEtv39jz+0//j99+1vvve+j7p9f+8pF3Lkj6y92QidIVxZhBzw/OFWZSSyj5IODTDWFI6Rh7xTHd4VWIa4Z4QrgiQ1HpbtwoI8tyohYsk7Vd8vo6HyGT+uteJM4jYyTg3NYK6yoiJ3kyLY+D0dxT00NGStra127tw5H5G6e/duT0ePHLWO9nYbvnYtCKWH8bDdGq3nbqrwkPOgY40bcTchX9RMcK/MpUVetnGjYpJnugamDsGNQyPDi4IpQxjkcOLsZTt3scUtBVMNhCuxgsQqYQ2hoR0OjWp7d58dO9vko7out3S5gMEamS1cD3WWOsCoNYQGP7G2ReKd37HKYp08G+oGAxYGw75sBcFK/cAazbMVhSdEzxj1imOeJwvELZ3DaNCTl0cQranuc95TlAvvIp438nJOtqDyGS+U0e3WsjiSuMXkMGGlAYMZjh8/bm+++aa99tprtm3bNk/f+97rdvbs2dCQDcTmVqRy1deU2wvPrLXf/dVn7eXPfcS36ak1tXRaS1u3deHKDA84QeNb1y+2z35iU8j7jP3qL2yx5YtnubunsbnDGhpb3YqCQGOS0M1rFtqvf3KrfeE3PmK/+2vP2q98fJMPdmDU6v5jDbZz/+kg4nqS32TqQBD9C0+vtt998Wn7/K894z9f+uXHbevahdbR1eduQKa7uNLaFcRLFrknEPqhkUCw+aCVUKcWzK6y57Yut9/81Fb79EfX29z6SncHHj3VaIdPXjKmxRB3gYYh0d4IIdJAGuvhMuVF26Mi6hEwknHJ/DrbuGqBbVm7yFYtmW1Mt0APnriHFmKwrl67OeqNkaAMJWfqDyxKWJYYiXTxMoGtQ97DIwB23qwqn96DEYFMKbJm+bxw7mw/hkXFJwvtm3qj3kqKCmzFolk+YmtzKFOmsWB0JNOcIGixLiHYmNIhm2LbqGuR9ZZOR24Q+z6KcsksF/Orls520YYrsDF0GJi6IBsC7O8GlhE6RFi9sZ7QccINinGEebfcouIW8ZAnC1od6o9bGEP98fK4miiPCKyNlBHzIuJCJi/nZAsqn3GSLALKIo4kRjLlRRuDGBjM8Pzzz9tLL73ksyqTPvvZF23hwoWWl5fvL/K4wZROg4mIw6XJ/GwdDB8PDSiuq1SonMRHzJ9dZdWVJe72JH4N0cZ3I26CAFheDPxOXWYKDGZvn1tX6XEXWJ14sUw1eGkSTxLFlHD/iLXKskK3LDETOWIk2wKBKYuC/MQyOiTEO1bJamImQ12hvObNqvRRldQ3Rk3SWchWeB5ZaigRu0YM0pDHmpLYZh/PF3Ur1Q02VUnUn0R5MFXFnTGxbBOET0coEQM408/JFlQ+4yB6bGIUWxJuI5nytSw3N9eqqqpswYIFtnbtWp+gj7Ry1Uorr6iwGTk5oWKMvxg8Vib0trzXFRIPcxTbQH3z93/4FWuIBzqHBpTEw57qlo16Fpw7dJWZ2q95rETCDeY//DgNSiJv4sUyY0bYCBn4Hvw3VaAcaFD5OS3cc+K+E2Wa+B0Bl9hHHi/L8DNb4G+PMGPqAayRiHgaD+pDVE5sRwIkUT+yF8oGoc/obUZbR/NqkdhmH8cIWyDvVAeBysjHwiD8edcwMp31a9nG8sg7qrm9x7q6+936X1VWbHlZUC4RKp/xwdvGU3gBxZHESLK8a5A+iAUeZHrrLsZCjz3hdkmIDtx3l1s63BLEiwC36MDgkDHikRF9EZzfeKXdp/3AjYP1ZGYOQfe8ILh2wjIQwWddCvmvtHZbTugNkp/zpgouhkP5UJ6kyJ0V7e/pTawJyCLpxAyWlxS6KzlbwJWXH3r3WHK9roR7p64Rt0bngfrB/G1MYYGV1mdsn0L140HBEsI6rNQTlqo6faHZR9yS2GZfRWmRu5h5Rqc6CNOq8iIXJry/2jv73FrPc8Xzxvx/DG5i1LaXSyg7yjBbUPk8OA9DYkm3jUSiLU1Y05EGElHGouYMCth/9HxIiZ9RrBm9MF4CuGgQG8w3lsibyMeca6x/yLVw+c2pr/TGA0vAldYun/vt8IkLPqcb85SxeDxzlbFGaV1VmS2aVzOlFgNHoPFyJMietf8+DPft6TDpnJc1DS6ChHm2cCsj3rIFLGiRNYApYlgajQEszA9IGR06cdHOXmhxFw6Tz84L9QnL3FSD+2OxfBaMP3D8oq8H2drZ4zGODL7gGaNxxcpNGbCsFQ3wkZONoawabG94/lirlAaZAT9MTpw61c5UhXhIrEgVSbc6zxFrr+4+dNanFWJNza4gUPz5qiq5Oa9dtqDyGR+IrDiTGMm0G5iEMpCBgQHr6OjwReO/853v+PxtX/rSl+yxxx5L5kiPXbt3219/7es2dO2G/e4XvmgbNm1OHnkwsJAhLE6db7Kd+8+4tSxh1k2shIAbC6E2PzSsj69f7Nayd3Yd94lhveDDP6mOKxqVTasXhsaj1oUIS1/tRfwFkYJ4Q6hwfc7AFctLZenCep/XjWkxmAcuDnz+qpmJqUomAsQqViMa4e2UV2iYCRDnvq+H+07EnOT64I2nNy31n8QjZZs1CdF+NDQgzPGHkCV2DStcVD+YG/CJUO9YdgfxNtUECfXinT0nXaBdamr3RfOZtxD3+aJ51bYi3DdrACPYWP3gSkuXvbv3pOfzuh0eVcppTm2F16OVi0M5VVNOU3tptOi1H63te/R0o5cbEzRPn5aIo8VdvCy8Vz762Ap/vni2siVua7KUz57Qjn3zG9s8DOfVV1/x0J+JYPu7O+xf/V9/YR+carPS9b9keXVLk0fSI6fjrOWffcOeWFLpsegTdX+ZRMY9gX19fT6nGuuN7tu3z44dO+bzrDU3N9uBAwds7969PlUHC8gzB9tEg4DiQWXUGUtY0WAmegjTPPYK99XC8EDzcDMgoayYuJrEpIweb0TekBAcdeH4gtnVvjwK24g9rj8zXJsXQkIMJmAfy/YwxQiL1DMogUZpqhBKz4UjZevJy5W9CSsTM5QvXVDrjTLLEiXcydnn/vM1WUP9oiyw5NLb98Ea4ScWAgZrYImjjApCHZuqIOg9bi2UwYogvJYtrPN4vwieL8pgwZwqmz+r0pcfwkpCeWElYdAGx+pDHvJOdfxZConnhmeIUe5YaylDnjf2887iGIujUyaPWpBMJCqf8ROK7Wb5pZ8S1xO3yDhLG4Jt+/bttn//frtw4YI1NDTY+fPnwwMxw5YsWXJzeas1a9bYsmXLrLKyMnnmgxGXpY1eOvFWxKgx6hPLG0SFipDAIlQcGldGkDJoobm123r7mR/ulo0tMWw8xxvh8rLC0MDmujghnoIgaSxs/YNDiTi4UIlppEhcu7ysKJyX6zFtiJs4mGhLG7GC3CuxI7i6cIOBl1f4hxguero0zLgIs6GhHQ3qH25kXPBtnaGcBq5iJvAXHvWBeoeQoV5Rn9g/laBeMI1Od8+Az1kXxT4CzwJxRsTz0XniWWG5N+oTzxMB5TxL1HHKhwmsiwp57qL1g6c+lBfvLOqPv78GEyPbeW9hlUWcZPPzlenlk4mWtrINn7b8+rgsbWcs78wb9vhiWdoiMla0sXrB5cuX3UU6OJhwCeIinTdvXkaJtqnKRIs2IYQQY5Nxou10m5W7aFuWPJIeM9oj0VYh0ZYk41rkmpoa+8hHPmL/7J/9M/vv//v/3v7Fv/gX9r/+r/+r/S//y/9i/9P/9D/Zyy+/bB//+MddsLHUlRBCCCEyhBiN1Fli8H4gMk60FRYW+pxq69at80EHzzzzjD333HOenn76abeyMSkuFjbmYBNCCCHEBIK4Cin5w8VWHEmMRL4vIYQQQqTPKMIrjiRuIdEmhBBCiHGDrkqk5L9BacWRxEgk2oQQQggRC3FqLem2kUi0CSGEECI2EFtxJDESiTYhhBBCxEKcYksu0pFItAkhhBAifZIa687YtPEmMRKJNiGEEELEg7TWQ0WiTQghhBBpg16b5qNHsbbFl8QtJNqEEEIIkSYJhTWamzOdJG5Hok0IIYQQaRNJrNHE13hS4ooSbqlItAkhhBAiFlxrxUSc15oqSLQJIYQQIjYQW3EkMRKJNiGEEELEQsKtKR4WEm1CCCGESJ+kXrszNm38SRa3O5FoE0IIIUR6ROJKIuuhItEmhBBCiLRBr3kK/8SRxEgk2oQQQgiRFg9DY+EiFbcj0SaEEEKItBkZk5ZeEiORaBNCCCFExiHdNhKJNiGEEELEAkIrriRGItEmhBBCiNgYTYCNL+EmTV5UOBJtQgghhEif28RW+kmMRKJNCCGEEOkRaawYxZZ020im3Qgkt7OKD3busr/4y7+21u5B+9Sv/zNbunp98oiAiqJcW1xXYhXFeck9YjR4fK5n5RN0//Di1bt3bGRVEONhz+7d9s1vbLPpofq8+uortmXLluSRR8tb7+2w//0r/9b2nOuw2sd/xYrmrEgeSY8bzafsxpEf2eb5ZfbKKxN3f5lE1oq2t0Ml+z/+7N/agXPtNu/xX7ayOcuTRwSsmVdh/80zi2zt/IrkHjEaw0GxXbt+3cL/YhRoTKaHf2TSvwuUTxBsEm1iPGSSaPvXQbTtjlm0Wcspu35Yoi2VrBVt29/5wP7ln/4be+foFctf8QnLqV6cPCLgyeU19ie/staeWlGb3CNGA9E2dC2Itux8jO4JWiQH0SZRMiqUCqJWok2Mh0wTbXvOx29pG69oQ9p0d3fb5cuXraenx3+P0syZM62oqMhKSkqsvLzccnNz7dq1a56vubnZf14PPfHp06f7MfLV1NRYYWHhzWeV6/T19Xl+PmdoaOjmOcXFxZ6fnzk5Ob4PBgcHrbOz07q6uvwzOAcKCgqsqqrKP4dtzrkbM74cSG5nFecaLtrPg3BraOl1wTa9UBalVOZWFblgm1ddlNwjRiM8ty7cJNlGh/ebLEl3h1KhbFQ+Yjw0Njbah3t2+3O2desWmz17dvLIo+X8hYtBuO20xs5BF2y5pVXJI2nS1+7CbVZZvgu2+70/BNXw8LCdOXPG/uEf/sF+/OMf286dOz3t2LHDjh496mILoYZoy8vLcxF1/Phx++EPf+j533vvPfvwww/t5MmTfgxRVVZWdvNZRaBduHDBtm/fbj/72c/srbfe8nP27t1rV65csdLSUhdhCLAZM2b4OW1tbbZ//37P99Of/tTefPNN/z7nzp3z6+bn57to4/vcDXkthBBCCBEbUUck/ZTo+I0XxBviCgHHdgSWMQTakSNHrKmpyQXcqVOn7MSJE3bx4kXr6Oiwq1evWn9/vwszjjU0NFhLS4tbx0hsnz9/3o+Rh7ycw7lcg2shxrDG8R2wsvE5fOaxY8fc2sb3iq518OBBO3z4sO8fC1naZGkbFVna7g9Z2saGF64sbXeHUokaKCEelMyytO2wxs4BK56Lpa06eSRN+trGZWmLnicsVrW1tbZmzRp77LHHPHGdyspKO3v2rLsqq6urXcRhhUNsVVRU2Pr16+2jH/2oLVu2zAYGBlxY4eLkuljQ+B3RhzBDiOEK/cQnPuHX53pY1nDL9vb2+nfGFYuYI/+7777rAo78H/vYx/y74XZFsLW2ttrSpUutrq7uru8EWdqEEEIIERvojbjSeEFkIbBWrFjhQm3r1q2e2F60aJFbv3BXItywtmEBu3Tpks2aNcs2b95sjz/+uG3cuNEWL17soopjuFsRYqTTp0/7Po6Rh7ycw7n19fV+DGGHIET48RkkBBvfa9WqVZ7/iSee8PPJgwjnO3F9XLejIdEmhBBCiPRxoXXLrZluCv/6ZccLwo2YsmgwQOQuTU0QCSZck1i5Fi5c6GKMgQRYvrCWIaZwh+LuJOEuZR/HyENezuFcrsG1uCZuU/JzLvk5hkgj3g1LID+x7mH943cscpEbdjQk2oQQQggxftBWCC1+8DP8E0cyu+EWJ4QMcWC7d+++LREHRtwYbsW7ipwg1rBccT5B/7gnsaoRT4bFC9clog4LGJ+FiIpGlDIwAJHF71jM7oxpY4ACx8hDXs7hd67BtfhcrsvPaJQpgxlw2TLgADcq5yD2+C6INvJi/SM+bjQk2oQQQgiRcQwPX3crGG7J119/3bZt23Zbeu2113wEZuSGHA2sa8Sqfe9737OvfvWr9pWvfMWvhahasGCBx6MhpBBOCKjIKgeIKvYjphBqWMw4j8Q2+xBrkfCDyLrHtTgf8UXeaIqPO/PD3T5nNCTahBBCCDFukoa2Ua1l6aWE5S5OolGkCKVInAG/k/jcCI5HQg4RhaCK3Kpss49zmPct9Ty2o+tHI0QjS95o+e/2OaMh0SaEEEKIjAOBg2WKgQMvvviiT7Cbml566SV7/vnnbfny5e6SHA3E0Zw5c+yzn/2sfelLX7I//uM/9m2uS8wZbsux3JGZhkSbEEIIIWIDoRRPwtU40+PEolGgqWnt2rXu4mTiWyxVdwNBx/mM1nz66adtw4YNHvyPVYvBAcTEMWDgzvncUi1qkcsTq1iqZYxzEHyp57HNfs5HeJIX1+fd8t/tc0ZDok0IIYQQsRC0VmzEeS2IxBZB/1jfEG7EwjGnGj8j4RS5JhFYxJfh2uQ84s4QVaQoBo6Yu9QpOjiXba7F+bhCycvo0tHyw90+ZzQk2oQQQggRG4itONJ4iSxdCCMS2+zDeodw4ye/I7A4BrhLsYoh3hitiuhCYDG3Gr8jupg4F1FFwrrHPo6Rh7ycw+9cA9HFgAMsbPxkwAMWP1yxLHMVWfY4B8HGFCGINvIyMAKxNxoSbUIIIYSIBQRRXIz3UogxRBRiKBJT7EOoIeIYycmIUqbtQIAxGe68efPcAofVjdUSOJd8rD3KRLnMo0YerGCk+fPn+z6OReuTcg7nIuK4FhP1MrVHan6OMTEvwg6Rxs/29nZ30/I7ruBIHI6GRJsQQggh0icpsm7FpKWXxgsWLCxZWLRYHoo53Xbt2uVLVfGTBeMRS1jBmDNtyZIlvnQVE+Ui2sjPnG4s/s7aoogxjjEpLpYwEoMj2Ierkzzk5RzOZYADgo1lsLDGRZ9DYhurGt/rgw8+8ISIYz/iEWHH9eUeFUIIIcTDJT5D27iJRBvzu/3DP/yDffOb3/R53b72ta/Z17/+dfvpT3/qohCxhrBat26dPffcc76N5exHP/qR/ft//+/tb//2b11Q4aqM8uLiRIixjYjDIkYe8nIO53INjjNYgrg58mBBI46O/Vzvxz/+sX+Xb33rW7Znzx4XgU899ZS7XccSrBJtQgghhEgbpIan8E+c6UFB9GCpQhzxk1i1yHpHTBuuS8TT6tWrXUhhFWMpKvZFAxQQWrg1586d64IN12jktsQqxjYuT46Rh7wc49xInLGkFVYzPpOYOeLa+MyVK1f6d+B7RddiJCzrkRLPNhbTbuDkzUK2v/OB/cs//Tf2ztErlr/iE5ZTvTh5RMCTy2vsT35lrT21oja5R4zG8PUbNnTtul3PzsfonvDCzZkeXpTjefNmAZTK9FA+Y/Wshbgbe3bvtm9+Y1t4vsxeffUVt+xMBG+/v8P+9Vf+0vZe7LI5T79oJfNWJI+kx3DTSRvc9wPbMKfU52W73/sjfo04NlygxK3h3kyVOog5xBRWMyxg/E6sG/mZtw2XJ9eIRpuSD2HFOdGzyvXIx/U5L4qb4xzyRQMPEI3sA2LWooEK0Tlcj7g33KIIObbv5hoFiTaJtlGRaLs/JNrGRqJtbCgViTYxXjJHtO100bbvYmdCtM1fmTySHtcunxiXaJvKyD0qhBBCiHgIHRC6ILEkdWZGINEmhBBCiFiIxFYsKXk9cQuJNiGEEELEg1TWQ0WiTQghhBBpMy0ItoSlLZ4kU9tIJNqEEEIIkRYusnwj+TMGpNdGItEmhBBCiLQhCs3/CwoujpSQbZJuqUi0CSGEECIWUqVW2ol/xG2MmKeNpR9YuJSf4yGaJI6fmcx45mmj/hTl51htaX74OdN3RHXq2vAN6x+6Zj0D16yrb8hmzJiezJfjc1RFlY/eA79T7EPXhq27/5q1dA/4XF95M6dbSUGuVZfkWX7uDL9m9Oe5Onzd+geHrWfwarj+Vc8PuTnTrTh8RnH4PkV5OeH3Gb5/aHjYesN34fv0DNzKf79M9DxtV0PZDIR77e4dsPbOXt+mJHJnzrCiwjwrKcq30uKCUE7h7zCBpDtPG5MxDoe/bW//kLV19lhf+DmcXNgYcnNy/H6LC/OtONxzXu7tky4ODiXKqKun3zq6+kL55Njs2nIrLSnwCR2vXr3mx3v6BsO1B71cnXB5PoHPZ19RQZ7NrqsIZZrv58U1rxqXiWOetr6BUD4dPX4v/aE+U0YzwnVLigqsvqbM6wPwd+CeKMeW9h7rDfd9LTwLkDMjUXeqK4r9fpkfjXsnb08fZTjg5QlRT78wPFcVZUV+Hn8Lnus4oVQmcp62yfKcTRSZXj6ZNE/b//H//Uvbf6nL5j37q1YW0zxtVxtPWN+H/2jrZpdonrYkI0QbK9+zgOmFCxfG9SJh+YYnnnjCf2YyDyraopfr4tpi+9jaWbaorsR/jwRZd/9Vu9Daa6cud9uhhg4XUORbXF8SGotpNiNZlrz088MDz8ugrWfQjoVK/m74Dq2hwagJIm/lnHJ7ZmWt1VcUuOi6mhRbXcnrn27qtsMXOqyla9D3Vxbn2rJZpbakrtQWh+9UUZzn+9t7Bz0v3+dEY5d/1oMw0aKNl+SlKx12/Mxl23PonG8HCWvlpYW2ZH6trVhUb6uXzrbaytLkGRNDuqINUYUgOXuhxT7Yf9rOX2yxgSAcrgUhR42pKC2yxfNqbcmCWlu+sN6qguBIpaW9246fvmyHTl60fUfPW3lJob34C5tt9bI5LvAQckdPN9rp81fs3KVW6+zu8/P4ujz6g6ER6gplvXButb34Cc6b7cIPgRMHVPs4RNuFy21ePkdPNXpd6A9llp8301YunmW/9JH1tmxhnedDoA2FztPZUI7v7jlppxqaXbgBjeySeTX29OZltijcL/dJPSPvyXNNdiRcm/LkL8mzPTOUwdz6Ctu6blH4G9R43SvIy/VrxQWlMpGibbI8ZxNFppdPJoq2+c/FK9p690i0pTKi28iyCljampqafLX7B03t7e1+jfFCQ3L16lW/zokTJ+zDDz+8uTo/af/+/b44K0tHpPM548V74JFYS9mHpQvRtDQIqOrSvPByn+GWgDspzA0NQVWhi75ZFYVWXpRrM3Omh4Ztugs9zuXY/OpiKwy/3w0unRfOqyrJD6KtzD+3pGCmN5IkLHwLg8BcVFfsn5EbxOIoXyfj4O9PwnJ0LLwojwTB0drRY4NB3CBkeImeONtkx4JQaW3v8Z4vlqrJCmLvWhDwWHj6+wetP7qfsP96EISdoRyOn73sZdESyiG6X7eQhTLp7O63Mxea7eDxC7b38HnPh1AjT7jEXeEzKcvLLZ0uWBCNveHzMxXuB4sYAhOrWHMQV0dDHThx7or/HjEweC3cU5edu9hqDUHoNbd1h7K95onthsvtdj6I18vNnV6WiDwskNz7UCjPRLkl/ibd4bqUD3Xt1Plb4m8qkG3P2YOi8hkfNDGeaB9jSDcvKG4y48uB5LbDGl0IJmDdrAdNdXV1tmDBAt8eD6z/xXpep06d8pX433jjDXv//ffd+od4Q8h1dnb6A8U6XSzSOh7ONVy0n7/zgTW09LqVbXphRfLIGIRGEDdla/egHW/ssn3n2m1/SAfOtVlH35DNC0IL4dTeM2QdIV1o63Wr28HzHXbgfCJvU2d/EHQ54eEftjNXeuxUU0/4Dj1uUSstnGlVxflBiOVZU0e//XjfJXvrSJOfd7Ch3U42dtvF9j53jyIISwtzXSg+vrTGCoIYfP9Es71ztMm/V1v4jrMrC128tXSFhq6fBuqGDYdyux/mVhW5lW1edVFyz6ODv+35S232k3cPeaO5YdV8e2bzMnt8/SJ3bZ250Oov07rqUisrLrCZWIaSbuFHDcWJte3+SnUk18PfBKsr1yksDIJ9brVtXbvINq9ZaGuWzXG36KnzV4IQ67W6qnC/JeF+k/eKhe5iECYHjjfY6YZmb0jo8W9as8BdneTDjYP7ZlZthS1bUGdrl8+1DSvn29KwXVtZYgX5uf7966rLwucu9PNwj/oLMwa4TMIand71EFc0igkLR51bIDu6+9x6tmn1fJtVU+75aEAPHLtgZy62uCCeP7vKntu6zK0h1BPqFuIPUVZZVmR5uTO9HCkHyoSy2bJ2ga1YNMtqQ3nDmSBoqW/zZlVaVfntls508TYphvIZD5PpOZsIJkP5NDY22od7dvtztnXrFps9e3byyKPl/IVL9s77O6wptDtlC1ZZfnl18kh6XO9ps6HGE1YX2kSsbBN1f5nECEtbtKo9K97fLS1evNjTaMdwi6YTz5awIFz1hVURb8TWDYcXNg8QP1ls9fDhw3bo0CG7cuWK5+OcRwENc/fAVXc7HnDB1mb7z4YUts8H8ceDU16U58IttIMuCBFtkWA7GH6eC0KN2LSBq9ftYltfSOEeh5JxRoFr4cS+cLw5CC2EIeeRjlzotLPNPe4WxR2Hda4siDysaMXh8zjvzJVu2xe+D+lU+I59Q9eCmMN6F4RgSLkzM3/cSWRRaQ8ipam1yy0kC+dUh4Z0oW0JQmb5onorCWWMCxHLScKSkohDmoxgtUVclQUxggsOUbV+5TxvIDaGhNuSeoVFDdcm1h4voyA0Ghrb7FJzhzf4CDOEx8wg0lJdkYiS6ooSL8PVS+e4KCHhTsTVWh7Ez9z6SpsTxBoCEbdouq7MhwFuSb4jYmptELNL5teE75sIBUiF2D0EbOOVThd4q5bM8rIksc2+xlBmuE17+ge9vNhHGaxaMtsF4KZVC0IZzbM1obwoO+rYuSACqZdThWx7zh4Ulc/44M2RSPH8J0YyohUvLi528bVx48ZR0/r1623t2rWe2L7zOOdyjfFCA0RPv6qqyh577DF78cUX7eWXX7YvfelL7tN+7rnn3NKGm7ShocFFHCLvURG0YxBI1z2xTb3C7UhDl7AoJPIlJN4tyJMzY7oPYKgrL7CS8BOL3aUg3BjA8KBwLcQhAxYY+MBgBsQg4g232kAQgs2dA9YbRCaibU5loQu4TAf3A24I3IJYiWhQSQT85obvXxKExYLw8sRK1NbZaxea2j0wfbIyI9T1/CC2EF0IBCxIxFpRl+i1I8TKSgqtqDDX3TL9g4mBCrhA9x45725NrEnrV8zzcrrf1xyiDzchMVyIN6xIhQXxxmvFCfF5WBHrq0sTdYEyGsXfT/lQJ7DC1VeXuegtCvdFYpt97aHsEvVmyK9LuWNVS70uP7GmVIQypbwpL8p/qpBtz9mDovIZP7SBPJlxJnGLEaJt5syZVlFR4W5OUnV1tbs6sXQRR3bu3Dk7e/astba2ukWtpqbGysrK/LyBgSASenvdxTleEGzRd1i+fLlt2rTJtm7d6gKOhChE2OHCJXV3dz9S0QaINeLNcE1uXFhpW5ZUe0wZLksGJJCwnuF2isAyhlXMY9iC4MLN2tE75CkabABcA1cngxKWh2uunV9hq+aWe3xaRTiXOLaorUpc/YY/JAnRmPiZ+D2xzaCHquI8qyxh9FvmW9pwFfKiJM6IBpXRjIVBuLCNUCX4vCY0pogcrCpRnMlkxQPegzjjvgoL8lykMVglYVm+bsOhPCJLMvcPPb0DPjKSuCwaClyDNCAIk3u95bhuYnTloDc0jIhDnCDa+OxMBQGLKxRrIHWBMhrNpTh0dditI8So4UquCYIMayOJbdxYHOO+yesjSkO5Y7VLvS5lhBWF+hj9fUaLUZ2sZNtz9qCofMZJ8hHh0YwjiZHcsxXH/Ygbcu/evfaf/tN/sq9+9av2l3/5l/Z3f/d3PtI0Grhw8uRJ2759u8efIejGy4zwEsVFW15ebrW1tW5xy83NvSnmOIagw5qHWCMGD7fpo4S6VF9eYC9smG2f/9hS+4NfWG6fDNu81Btaeq2xvc8YrZk6zQZWLmLMiFdD1F3u6PepOOi9p2i75OCCPFsdhNpntsyz3352sX3uqYX2cUaiBpFI3JuLvnBtLGxY1BCCtWX57iZl2hAEIrFsfN6cyiKrDKKtMHz+ZGh0ECoIERpUGlpelKnTLLCNuKG3S+A4eTlnqkG9wBWKVailrdtdNfTyEVYE4Te1dHo+Gg3irLACzMy5tyUV0ca1aWgar3S42xVLE+5Bynqy42JrMCG2sJa5CA7vDuo+DS37roa6RZ6xwipwneJmZbQgDfasmjI/f6qg52xsVD7jwJsXjAbxtTNxXmuqcE/RhiWL4P9jx465OCMdP37cRVpPT08yVyIfeY4ePerb44U/Uk5ofPLygtAIAg1rHkKOFywWPBLb5EPEkRB0dwNRiYjEQnjw4EHbvXu3p6PHjlpXZ0doxIZt/GHkcKuS4pbElYKFjW0ayAisZ/Oqiqy6JN+n47jU1mt9g+Feklk4B+scYu98c49daMVtiiVgupUEAcYUIKvmltnS+lIfqYqljgEJbT1D1hl+YlVbUFNs6+ZX2Np5FS7wiHnDusbcbVyHPJkOZUaDywuQF6PHaKWITe4BywcWEsqMvKnlPNnhXqhD3aGXzwCEhsZWtzIhzHCTchy3JoILSxIWsvKyooQlaMa9/76UV1cyPo44HeoFgq+iLIi+UNaTHR+NG+oOz5/Xn1B20ZQabLPvZp5R6g0DFBiNeqWly5jm4Upbl1syGaTAPHlThWx/zu6Fyic9eN7iSGIk9xRtiLQdO3a46MFN+alPfcrmz5/vogoxhRWMyXQRWNFUIbhJ4waxhkiMPoNtRo/inuW73A0EJCLzzTfftNdee822bdvm6b9+/3t26cJ5uzF8NTyhD9ZD4tHEUsbozm+/edL+3U+P24/C9kDoldWVFbhrk5GdWMQicKcyErOqNM9j2Ri4gGiLwCqHq/TIhQ77ux3n7ZtvHLf/EK79dx+ctbePXvERqesXVNozK+v8GjQ6zN1GTBwDHFq7B2zTokr79ScXhrTAnlxW45/PNQeTLxS9UjKfxBQg133aind2H7cjJy+5MCNAntGOuEaPnLpkF6+0eyzbmuVz3OV3v2ARuBTOZZQl7sbbY7nu+TqY/NyjHcAleqW1y61szNvW1tEbBFutD0xgDjwhxKNDum0k93xLM3oTN2hXV5dP5bFq1Sp3TyLYUMK86PPz893iFcW0xe2uxLLG4AMsecTT8VmR65R4OyxzjxomvmUU6d4zrbbrVIuLrc6+Ibdc4I5kVQMCWKlzuGaYg4152cqCmGPQwMWkJS0C60ovc0x1DPiI092nWm3v2VYfeXo4/M60HQwowJqWmI+N2dyvW6tP0NvpI02xuA0zrQc9vyDqWA0BVyziMJ0JYB8l3FdkEaGXiysLq0kE90CvlikgKFfyToUemYvqkHCJMlLx1Lkmj1lj36J5NW7pyQt1iFn7LybnGkNcYHE7fPKiT6Db1tnnAxROhnNJbFNWqeUXBeoTE4cImVVb7jFdmTpq9EHhHtyqHOqG15/k/VP16ei45SQcu9PyzH7KBlc0Yu30hWZ/dhG1xAsycrUgf+q4R7P1ObtfVD7jgyKIM4mR3HfXGmFUVFTkCcE2GlTauCtu5Ba9dOmSz9m2b98+W7RokT355JM+UOJe7lFEHQMann/+eXvppZd8BCrpM7/yWZs9d75NmxFexNPGb2HgOUY8MQ8ac6t19Q/5gAFi3hgEQOOBixKhhZBjcl3mUCPuLVW0cR0aFcQV14tGpxKzdrmjzy17g1cx1U+zvHBdrsm1EY9nr/TYB8eb7fUd5+07b5+2//zOGfvpgUafToRpP3CjIt64fqbDS5LGEcHLEHpG7fHSjGCb4GBmvU/ELOEWnBoWIhoFpg54d88JHxmKJWzF4lm+EkJdTVm49xs+KpI4tNPnm+0HP99v/+H/edu++d3t9r2ffuirHjCn2D9tP+AJ8eeTfoa6FEFsXIOPGu3xAQjzZ1V5bM5UwTuReTO9EU3EGiVG25LYZh/uZvKkvjeGwjsGkYuF7Z1Q/mfCzzXL5tjzj69wwUYA+lSyRGbzc3Y/qHzGT1AB3uGJM4lb3LOW8aJCGCHaEE8E/0e+e35iXWOgAnFjCDasbncTdeMBNygT7RIrh8UPEbds2TJbs2aNW/zu9SLFfYtFDish05QwQR9p5YqVVlpWHr4z1rB7VwtyeA89JH6G/29CcSRKJLFcFYKKwQDk4WdFcWLUKCILEdbZO+SuzVQRxeUSojeyuiT28wPLGQmwDqR8tF8jGthw/FKnHWpod8sbAtKtDqF8iJNj3jdEX6ZDY0twfWF+nsdcMXll38Cgb3OviJDmIDiIy2LEX1VZcRCxmT+Vyd1I/K1veKOABcyXmwpiixGOPi9ZEG1Yw8qKCz3oGVfm4vk1ngiQR8RTZ+4Fn0FDw3UvXulw8Vc1hQYgRNDIMm0K1kPELYM2aHRJbLOPY4mpVRKxsgi59o5en93++NkmH6RBHWQuO+bjKi8pmDKWyIhse84eFJXPg+HtV5TCP5EBJ44U/uEjRJJ7irbIwoYQI54smtAWeOExTxoB/sSNUcCM+kTkxQHXZ2ksLGwsYcWI0XXr1tnq1atdhBFH96hAcDGyk3nRsKBFoozqhIgjZg3rGstKYS1LWLZuJJetKvIRocSXMaEublB32SQu7XB9rhtZ5yIQgLhbSYwMxSzP9d3dGa7h3yvsJ7EdfZfK8D3m1xS7YESwMbghNYYuU6HXWlVe5C9MXpDtSZcfsVw0riwthKi50tbtDe+c+qnhtiJ2atf+07b3yLlQb4ZdsGHpSUzime+NCO5MZvb/3Kcesz986eP2B//N8/bF30qkz35iUxBytb6iwqc+ss4Tbj0foBCEO3XlKnGhoRwJsucnlrY5deVWMIVGRSYm4S13ocUs9onluYY8sc0+ynEu7s6QlwYYiwnrsr6546gdPnXJY9ie3bLMJ1Ol7B/1LPePgmx9zu4XlU96RFor3XSbhUI49xRtCDZWP6ivr/d52ogpI76MbSa4ZZDCgQMH3NI2a9YsW7JkSVqT60YQG8fgB8QgljYsbgg1LGys2BDNDfeooJeNWzKx1mepDwpYv7DSNiRTNKqToH8GGrSExDZTfUSjRnGLsrQVoi1VsIGLsyDs5tcU+XQf6xdUePLRoCExerSjN5zf0uuCEMsb1yBWblFtiechv3+f8N2IfYP2IBSbO/utLZw7FL5PpkOsEb1bJjVl2SbcUmcvttruQ2dt98Gzbg1h/Un211SVWE1lYh6uyUrCzTJkl5s77MCxBjt44qK1BgGH5Y3pPi42tXu82olzTT7/WH4QGssW1vsi5luSy12RWDi9siwxASjxb6TENCCJTgCCjUYHCxuikPJDvDAidTKMGnW3bmOblwVlRMweQpfJgRFa+0PZIbxwc86dVWn1teVefsSn7Tty3hPblMGs2jJffQILCQMzLjZ1+PquXIfF49k3EBpq1i7lnAPHLtjJ87evcTrZybbn7EFR+YyPO61kaafkdcUtRqw9eidY2BilicXt/PnzvnwUC7ZjAUPAMR0Ik9wiopgId8OGDR5rNtaIzvuBNdXefvttF4bMxcbyWMSxMRAi+j7p8KBrj0ZxaQikZ1fV+bqc6+bfEm1Y04hDY5kq1gm90NrrrtDasgLburTGBxEw0pOlpi619/lSVakwQIHF3dcE8fXkihp7YlmNC0Om72CSXaYMYeADS2eda04IP2Auto+sqbdnVtaG71Hl32VNOKesKNcHO/BdWOOUuLakh/W+mMi1R3lYPQ4r/CTY90RoUHlZ7jvS4A0p1iNEybplc306hkiYTAS4sSMBPR5YIB7hwYjQt3ef8Gk+cOXhjmGwAYMM9h9tsAvhvhnkzL0y9xiNRSoszbQnlBEWNVZHwKVKXqxswLqkXI/ExLI1laHjsXKer5sYvSAfBlzWXfppXh8L2bsfnrS3dh239/aesg8Pn3OB1dbR4/fOfGq4rGhsuTcsJcT3UXdYWB7x1Xil3UXv+uVzbeWS2VZZXuxTn+w+dM72hOtR9gjjntDBiQTb/uMXXBAiAFmflRG8cUKpPMzyHws+c7I8ZxPBZCifTFl7tOFCeH+9v8Oae4aschFrj9Ykj6THtZ5WG7h43GqLc7X2aJL7srQtXLjQVyJgxCYWN9yTK1ascPHEPGrsZ3AA+8jLOeOFkadY2Yhf27Nnj3344Ydu1WNftCIDlj3EI4MTmNKDWLuHDc1yNCrTF15PNtQ02rgsmSgXcXTicpdd7mTi3Gu+pBRuzPaexHJVLtjCT8TcnXANrou7hmtG8DkMWGBJKtYfZZQo659GuGjw88L3Cb+QfLWF8PAQ43Yy5H9QwTaRRA0YbqkVi+p9PUjmKKMRJtCX/Sx8zjHce+7+C/snOwgxXKJL3MUZnrMHnMyVlQKwwLE2JxY0yoQX+U3CNvGfWN8o05VLZrmVjX0TIRjGC42ix60F8UQdoNHk3iMoM5aqWjC7yubVVyYtIDkeD1gdttnHsfogVvPzEsuFMY8hYmxlKLvVoWwQskXh74EAnKpk63N2v6h8HhBeISmvkVB08SSulbikSDItNPJjNuccJrYM0URMGyKJaUAioYTFC+GGgIvma0unIeBziJt799137dvf/rZb8hhIEKVoMXoU9+bNm10o4i5llOiDsP2dD+xf/um/sXeOXrH8FZ9wa9tY0IHylQbCw0l8WUFeYjqPCEQTIzURb4gkxBoQX8a8bTkzEktcEVeGaEPQpcK1i/Nz3MXKz2iON/465MRdQ0wcFjaujZgDrl8brs85NGh8p0T+YevoC/mDeGT+uCj//fLk8hr7k19Z69a2iYCeLaP9CArHMoRFCujN4tbipUm8yYMIm4cB5erxhWM/RncFV6UHOnf3+0SuWItSLWRRJcP1wmS6CBTumTypYElj+g+eV0QHE8HyHEbB88ThMAiBMk18BjE7xfaw1xvl4xm8k24QP+5Rlgrq6u23wfAMUD94LwGNJWWCCKVuIICZooH8uDSjUX/ko/yque/CxCorg6EscLNy3WiEoA86uMNiQnki9FIFYhzwKf7cplk+42WyPGcTRaaXz57du+2b39jm7dOrr77i1qiJ4J0Pdtr/+ed/aYcbe2zx879uFQtXJY+kB1a29h3ft9X1xT7rw0TdXyZxT9HGixGBliraGIgQzcWGaMMVShwbog0rG/t4IY6HSLSxbNYPfvADu3Dhgo8SZVRq6ovtUYu2bGOiRdtkIV3RNtWJS7RNVSiViRRtYnKTcaLtckK0VS5cnTySHv0XjyVEW51EW8Q9RRvLQCHUzpw5Yx988IFbvpqbm11c8aJBpLEqAXOhsaA7blIEFFNtjAfEINOIMCqVuDmsegw4uHMaESxuiDk+i+0HjXGTaBsbibb7Q6JtbCTaxkaiTaRDJoq2JW5pi0e0DQTR1ibRdhv3NIcxahOhxrQeDETA2oalDa1HYpuBCNEgBfJyznhBnCEEGXjAH+jZZ5+1J554wpfQSk2MIsXahmhLd1CCEEIIIeKBLkgcSYzknqINq9r27dt9kXVcoM8995y9/PLL9j/+j/+j/fN//s/t93//911YIbR27dplP//5z/0cIYQQQmQXicjquJB0u5N7ijbcoLhGiTNjKo+NGze65evpp5/2xDb7GEFKHvJyjhBCCCGyh0hi4e6PJXGtxCVFknuKNlygDERgIADxakz9gUvSR6aFxDYT6nKMPMSk3SNMTgghhBBTiFuCLbEdS+IfcRsjRBuCC+GFUIum9cD1yVQeUQwbiQEKpOj3KJ9izIQQQojsI1VsxZHESEaINqb4QIQxapPEwACWp0KMnTx50ie7ZeJbRneSmOCW6TlYaoo8DCCI5lITQgghRDaQUFoJ1+bt4iudJG5nhGjr6uqyI0eO2Pvvv++JEaGMDiUdPnz45v7UxFQg5EPEIfrkHhVCCCGyEBdbKXFpMSRxixGijbXMvv/979u2bds8/ef//J/tvffe86WjWFaKkaTf/e537Vvf+panv/3bv7U333zTj7FOqAYiCCGEENlJkFnJLfEwGCHaULW4RIlLY1JbpvlgPjQGGixYsMDXHsUNyqADEtvsmz9/vuchr9yjQgghRHbhRrE4LW2Jy4oURqyIwOoHLB2Fm3Q8sAbpeJaVetRoRYSx0YoI94dWRBib8N7VighjQKloRQQxXjJpRYQ//fOv2pErPbb845+zqkXxrIjQe+GoNb/3PVtZW6QVEZKMsLQhtlatWuXzr6UmlqjasGGDrV692pYtW+ZWtYULF45IWN2wwAkhhBAie6Dr4Sn8E0vyq4pURoi2u8H0Hgw0YOTo8ePHfVkrYtj27dt3W2IUaTrLWAkhhBBikhKn0kK5idu4p2hj+o+mpiaf7gOhxnJWjBjduXOn/05ie8eOHS7aNBBBCCGEyEYQWXfEpaWTklcUt7inaMO6xjxsb7zxhv3whz+0H/zgB55YY5RpPpgG5O233/ZRpVjeGhoarK+vL3m2EEIIIbIFiayHyz1FGwMSjh496pa2q1ev+j4WhG9ra/NVElhztKqqyuPYGMTAfG5RPiGEEEJkD5F1LK4kbueeog2r2blz52xgYMCeffZZ+/SnP+2DEObNm2cf/ehH7bd+67fs5Zdfts985jNWXV3tsW9MsCuEEEKILCEorGnJxGjWOBIuUim327mnaMNqhrUNIcY8bYwcraiosLKyMhdujDTdunWr/8zNzXVxx9qlQgghhJj6oKtuJnQW8WhxpOQ1xS3uKdooOCbbJU2fPv1mYno3BB1iLi8vzyfjRbAxCCFaaF4IIYQQ2USMMkuKbQT3FG2IMVZFKCoqcgHH78SwYVU7ffq0jxxloMLZs2fdNcoqCog6IYQQQmQRSdPYbdayNNLNC4qb3FNdYUVDpOESpRARa0uXLvVJeH/2s5/5+qRf//rX7Uc/+pFb2BiYwDlCCCGEyC7ilFiu28Rt3FO0YWVbvny5J7YRa2wT28boUaxrDFbAwsa+lStX+lJWQgghhMg+EFtxJDGSe4o2rGxPPvmkPf300zZr1iz/nUEHH/nIR+w3fuM37Ld/+7ftc5/7nP3qr/6qJ0aYMopUCCGEENnCtMR/QW2ht+JK4nZGiDZGfvb39/tSVCR+Ly8vd/dodJw52WpqamzJkiUu4LCu4TKdP3++CzZcqEIIIYTILlxsIdxiSVwrcV2RYIRow93Z2tpqjY2NYyYm2GUyXZa5IpaNkaOcR+IaQgghhMgSItOYRNZDZdoN5u5IATHG0lRXrlxJ7nkwGIiwevVqt8RlMj9/5337l//nn9vbhy5Z3uLnLKdifvKIgKdWz7Z//htb7OnwU9yd4es37OrwdbsefoqR0EueHv5hokwxEqwJ00PhUEZCPCh7du+2b35jmz9fr776im3ZsiV55NHy7gc77U//4q/sRHOvrX7hN61myZrkkfToOnfELr3997asutBeeWXi7i+TGCHajh8/bt/73vfs2LFjyT0PxooVK+yzn/2sD1bIZH7+1nv2v/3r/8ve+vC05czaZDOKZyWPCHhmwyL7F1/4uD2zcXFyjxgNxNq1kK7f/hiJVELRSJKMzrTpZjk+96VKSDw4GSnafvG3rGbx6uSR9Og+f9QuvvV3Em0pjHCPMoluQUGBjxR90MTIUkaUco3M54bduD5s168O2fW+Hhvu6VRKTf29dkMrW9yb8LK8ZU1SujNFUgRJqzQyJf4RYurAMz8yNm2cKXFJkcIISxsrGly+fNkHIYwHxFt9fb1PxpvJ/Pytd+3L/+pPbfuuE5ZTvcamF9Ymjwh4ZvMy+59f+bQ9u2VZco8YDSxsuEhlaBsdXi8qm7uDhSRnhixtYnxkkqXt/5O0tK35xd+y2rjco+eP2oXt/48tlaXtJiMsbYgtRoVu2LBhXIlzM12wCSGEECJmRrOWpZOSlxW3GCHahBBCCCEeFERWnEmMRKJNCCGEELHggiv8E1eSersdiTYhhBBCxANiK/EjtiRuIdEmhBBCiLS5KbTCP3EkMRKJNiGEEEKkhWusmMWWhNtI7lu0Xb161drb230Jq4aGBmtqavIlrBjSz7FovdK+vj5fn1QIIYQQWQDiKkVgjToSdBxpxIXF/Ys2BNnp06dtz5499s4779i+ffuso6PD1x1lbre2tjaf362lpcXFnBBCCCGyB5dY4Z9UuZVW4h9xG/cUbVjQLly44MtbkY4cOWIffvih/+zq6nJLG8Kts7PTl74iz3gn5hVCCCHE5MaFWxyJayUuKZLcU7S1trbae++9Zz//+c/t6NGjdubMGRds/MTChglz5syZLuB27Nhh77//vp8jhBBCiOxCIuvhck/R1t3d7dYzRFpOTo4vU4X1DcsasWzTp0+33Nxct7ZdvHjR492IaxNCCCFEFpG0kLGsVhyJa0kF3s49RRvxac3NzXb9+nXbtGmTPfXUU1ZTU+OLwmNli0Qb1jYgnxBCCCGyi4TGCrog/IwrSbPdDmUyJowExbIGs2bNsrlz5/raordGdyRILAx9KwkhhBBi6hMZxG6mpD5IN4mR3FO0UXBY0/iZKsiiAsWyNjAw4BY5tlXYQgghRHYSZ/MvKTGSe4q2vLw8d4diXbt06ZJP+0E8GyNE+Z0Ro4wmJeatsLDQ6urq/BwhhBBCZB+IrTiSGMk9RVtpaamtXr3aqqqqbNeuXfbjH//Yzp8/75Ps7ty50/7xH//RvvOd79i7777r4m79+vVWXl6ePFsIIYQQ2UDkaUNvxZKk3EZwT9HGaNFly5bZkiVLfMAB7lFEGZY3pvm4cuWKT/1RUFDg+VasWGElJSXJs4UQQggxtYlk1i2xFUu6eVURcV+ibfHixbZ161b76Ec/ap/4xCf8JyNJ6+vrbeHChfbCCy/YZz7zGXv88cf9d9ykQgghhMgypLIeKvcUbdHcbNXV1bZgwQJbuXKlu0DXrl3rAo19uE+xsNXW1rpg4xwhhBBCZA+RZWxa+CeuJBF4O/cUbdHaotGEucS4zZ8/35YvX+5CjW32AXnIyzlCCCGEyC4inRVHEiO5p2hjRQSWr2Kh+AMHDvhoUQYiMHKUFRAYTcri8QxKIJGXc4QQQgiRRQSlNZq1LJ00Hoi9Z8Wm9vZ2O3HihM9wwUDKSKfs37/ftUtLS4sNDQ15fuakZWaMkydP2t69ez0/iW32EcNPnmjaM2AOW3QQS3uikVjKk+sfPnzY4/05zjkR0Xc6d+6c6ybyk9hmH8fIMxbTwhcYcyZcvsx/+S//xX+mwpxsfBnmZ0OkETRYVlbmsW6f+9znbNWqVcmcmcnP33rXvvyv/tS27zphOdVrbHphbfKIgGc2L7P/+ZVP27NbliX3iNG4zsN+nfkLkzvEbfB6UdncHZbqyZkx3aazIcQDsmf3bvvmN7Z5PXr11Vdsy5YtySOPlvd27LI/+4u/srPtfbb1l/9bm71sTfJIerScPmLHf/pdW1BRYK+8cv/3h/DB64fYevvtt+3UqVMuoPAColWYDQNvIeFehHdVVFS4liEf66yzdCfTmgHhYeR9/vnnbw7IZEUoQLB98MEHro8uXLjg5xAeRujYs88+695IPouBmoAo4zuRH6HW1NTk+5kqbcOGDa6bli5d6t/nbtzT0hYtU8Xca/n5+Z5St/mCCDgKiGlALl++7JPtCiGEECJ7oOvhKQijeJJf9oFBkyDcEGJok8jiFVnUOjo63Bp26NAht4jxO6KL+WaxeLGPc0lss49jeBjRN4g/LG/RXLVY7fgcrk2YGGIMYYaVDyEXfW5bW5t/JgkBx3VIbKfuj77raMz4ciC5PSoItDlz5rgKfOyxx25LjBbduHGjq1WWt0LcMaKUgQrM2ZbJnDvfYG9uf8fOXWpzK9u0mUXJIwLmz6pyK9v82VXJPWI0eKxkSRLjhUYJKxsNlBAPCoaSD/fs9nq0desWmz17dvLIo+XCxUv23o6d1jlw1eYsX2ulVaFNDfvTTf3tzdZy+rCVF8x0K9v93l8k2hA+WMqwXrFu+pNPPuneQKYlQ2y1trb6Ncl78OBBO3v2rJ+7aNEi+/jHP27r1q27OdUZoox8DMrEmIWVDYsc4gyd9Au/8Av23HPP+bmcg0UNMYjVrbKy0gUg4o65bhFm5P3Yxz7m94WXkuuwn/PRT3wG6U7uS7TxJbmx1ISQIyHSogXkqUAsHL9mzZqsEW3FhXkucObWV1h1RbEV5ueGP+ywXb2W8GPn5eZYdXmx1deU2dy6Ck+zasqtMuwjL66R4eHr7mJLZUZ4kefnzrSqcM2l82ptVm25zcxJmGTJez2Zv7Ag1+bUlbu4mjer0maHfFXh2gV5M2/7Hg/KRIu2voEha2rptAuX2+18Y2v42WaXmzutp2/AcmfmeLlmAnGJtuh+Lza1W0O4V+6b33v6B8e838Ghq9bR1WeNoWzOXGi21vZuywn1JHdmqCvhTc7fv7t3wFrCfq4ZlWNTS5ddae2yrp5+fyFNC/VtesifqW66/lA+fF/Kh3u4GO7lcriH3mT55CbLh2eJMuns7vO8iXzhfrnn1k7r6u636zduLbd35/1G57d29NjphmYv1+gZmhFeoDPC8xonNLYTKdq4t77+Ib/f85daraGxzS5d6fD6Qt27Fnr83HNO0h2UbWR6+WSsaKsObWr4Tumm/o7wTjtz2MryH0y08U5DfOEJRBChVRBuDJxEs2AtI86N0C5EFYKK2DVEHGus4zLdvHmzfx7XwXqGJY74N0QVegfBhshDmHHORz7ykZuuVgQeMW5Y2dBDzG1LPtyv7EcnIQqZSg2DF2KQODvO4/pcA+012kwc9xRt9wIlyMUx+xFQR2FgaeMmMpk4RBuVakEQNZ/6yDr76GMrbMWieistKrDm8EB3hsYBEGzrV86zJzYstue2LrenNy21zasX2JJ5NVZSnB96E9NciPSHyp4Kgq2yvMjWr5hnv/6LW2zr2oW+f3Domjdg/AQE2/NPrLRPPLXaPvr4ipBvkS2ZX2tFBXm3fY8HZaJFG4Ll/X2nbfuuY/bzHcfs3Q9P2r5jDdbR2RcEbJkL00wgLtHG/e7Yf9re3n3ctu88Zu/vPWn7j19wQYbIv9v9cvzo6Ub7YN8p+8ef77cT55qstqrU8yP8e/uG7OylFtsfyu6tXcft3T0nbe+R8/77oeMXXQjlhrpWEDoQM4PQizoGmQbfM1E+J0KdOB7K55QdOEb59IYOUaITBJGIPRnK4eehHN/Zc8L2HWmwfUe55wvW2NLh90inBqF35/1yfltooA+Gsv/7n+6xPYfOhQc98TxSRvnhvDjhHTKRog1Bggjhfn/63hF7Mzxruw+dteNnm7wcafxKiwv8fZKNZHr5ZKJomxtEW0lVPDHifUlL24OKNp4nBA/ahGnISFEsGpoFvYLrkr/fvHnzboosxBufg9DCOsY5JI4jqnCzMt0Z14li0ohZYy5bUiS2sJghChFjXIuYNkQfCfFGDBuiEJ3E90Q8YrkDBB6hZ8zKEcXCpXLPbiM30dzcfPMD70wNDQ2eiGVDVaJEUabpQEHiL0bJUpC7d+++OfIDNUxhT3TsnFvQKoptXhA3S4NIWrG43lYtmW0L51T7A0xjUF5aaLODqFo8t8bm1Ve6ZS0Cy0ZOTuihhTTaC7uoMM8WhfPWLp9ja5bNtmUL6mx2TZmVhRdEakND5SEvn1VRVmT11aX+faLvMVm5Nnw9CI5B6+oZsO4gapvbuu3IqUY7Hhrjnt7BZK6pAxae3tBAcL+IeAT3sdOXg/i4Eu53ZD3nGRu6es0bjjMNzXYgNCofHj7nAo59lB9iEktAX/+glyVCfzicx/N1DQtc+BysUMfPXLbT55s9T6bCfWBV6+7t9/JpCfXh2JlGO3k+lE/4PYJG9uzFFt/fFIQeZce9Uh7kw8KIsD1zoeW2+6VMSD1h35lw/qGTl+xISFynsbnDLZJcZ6oQ3S/3dSz8/Y+EeoM1aTDUKcoK6+yJIEyog63tPTYweNXraLag8hkfGCES/8bzH71injuEDu5MtEBqwqVJvBkWMrRHxJ2iDfFDW8l7M4ojY5t8WL34WyO0EGeIJuacjeL22WYf+iYabUpim30cQ4SRl8/g81gxKnKrIvT4/ugo8uOujQYn8B1JbLOPYwg4RGXq/aRyT0sbN0JwHAU2mmBDQCGkoiGuuEVRkJggxwM3SRAeQX//8A//4P7faJguljymFOHmKXQKi5scD+la2iqCSFq5eJYtX1hnNZUlbh7nu7eEB/jwqUv+cC+eV+Nia8HsKreOvb3npL2165j33g+euGjnw2c3tyasYaluTDTcnNpye27LcluzdLZbBFraesJ3bfWGiJcH14OZQfTRc6Chxo3Y1tHroo6XCt+Dxn88TLSljfJAYCBGEaEI0o7uPheoWCpxF2cCcVnaECW89LnfJfPrQv26db+bVs13a1sq7rYJdQCX5/6jDe7K6wp/87qqUtu8ZoHNqavwesA1qSt0GJaEurhh5Xw/vmLRLLfI8V5EwNA4zZ1VmTEWzDvhxe31oaQoPFeJ+oALlPLZGMoHaxsgsLDKUi6EJKxbPtce37A4dHzm+HOKVQu3KYKNjlRkoQOe38YrifOPhGcHUUzHjGehrjph3SUcIU541ifK0sb98g76ybuHXLxvCOXIqPHH1y/y+z5zodXrRV3oCHpncSYNTPa4SSdD+WSSpe19t7Rds7kr4otp62q5bBcO77GWi+fcqoUWSRVtxIhFU4wRp4ZgGgssXwgn3JTvvPOOCyNi8xF3GIaAUZ+MEo2scvxkwAGjUNEmxMYhyNA9iDwWGMD9iuhCuAHfFUGJMORaCDP28V2pV+RlPxoGmGoETYUbls9D12CFi+bATeWeljasWXwYvts7Ewo3srIhovANMzR2vEIqFW6MG75zFAU3HQX/8b24SfI8KhIKfoaVlRS6KKNhwDpC7Et/6G1FEOuGm3L+7Ep/+Z9vbHOhtjsItj2HE6LtXOjRR723COJzaBx4EdCA81lYC2jAh1KEXYS7v0Kje/jkRbcMIOxozCc7uKIQHiuDuFgbGl6EW3Fh4oGYihTkJe4XMYXAWDK/xuvQ3UCINYS/NSKDRr8kNBqF+TNdqPF7BLFt1KO5QaCsXjLbBeCmVQuCeJvnn1NdUeJWzHOXWtxKlalQH2aH8lm+qN7Whu/Ns4dgu5OBoaseu9be1evlt2BOta1eOsfvHetzaVG+P0+4QHkuI9jmWaRT1ImlMjxr1Lfy8Jx7fOAUAzHP35ty4p6xwlI+W9YutC1rwns8lHNJUZ6XJ/WDhOs4W1D5jI+bgiv8E0vyq8YDegJxhAEK/YKFDStaZOECtASiCZFFWx9Z4tjHMXROpE0QfPzOMfKkdrwQewg7rkMePJak+83PtfmM0binaOMLok65yJ2Ji6NQUZlY11h/lOA6CmK8cCPcANf81Kc+ZS+//LLPz/KHf/iHnljnlO+EwmaSX6xuFMajgqBTrBZV5UUe+F9WUmCXrrTbqYYrt7lbeOEvW1BrtZWl7q7BfYVlIII/yEB4EZBS/zgloVHhhUAji/Xs3MVWa+vsdfP7aH9Eb6Raulw0dvcO2tVr10O+GEw/E0x+bo5bguprSr2hRcwSKD9Vwd1OXUGsUwf8flPE1520h7rx4ZHzPvhgwexq2xhEGFaoO8/ASoswoyyLU64bdQ4QdFEDxc9MJSqf+nAflE/emPVhWnhHJKyRiK8bDNwJO+j0DIefXAsRyMCCiMjdxcCFslAmWJix5uXlzvT30VSDjiIitbOn30Up9YDkdS+UT0l4fyF4aytL/P1zoak9dBSyR5SofMYPT2VcCaNFQX6+B+e/+OKLrgVS00svveTzp2EswtJ2N2g70StYzN544w2PR+OajCbFtYmIutdzniqyJpJ7vo1Ql4g2bghFykgHEsF7/IysawTbMTwWk1+6ljY+C7MgE9MRFMgICxLbFDR/AHy+qOZHbWlDsM1PjtJEPLZ19tmV0MviwU3tuRPoPKumzBtLGhcefGLb1q+Y6xYO4tUQIwSL+3+hPjCStLy0wK0suLm47qmGZn9xEEcxmhajoU3E+gz651M2k1+yJR5WLCWIXxpZxHKmPDQPA+4Xy9G97hchgkuG0WuXmzvcqoqrmAYk4brjnFvn4bYvLMjza6del3qCZeDa1WGvmwTYjyUSJxrugxjNonuUT/TcYSFrD88kcW97j563fUcbfLs9PK+IVayaCDc6OJQpIQq4mK+0dXlD7M9ncYE/k1Ox3vk9h3pEvCPlWVqc7+82trln6kNNRbGXAXF+d3oEpjoqn3GSfP3wyMSTErFpuBEjPZCaGBSAexJtgqXqbkQuUcKrCPjn/bds2TLXLQwe4DNGs6iR2L7TAodGiSxjkUYibwTXjwxb5MG4Rbrf/Fz7biJyTNHGRaOLEVjHqFBULemjH/2oD3F9+umn3cqGWENocWNxvOT4wnx5EtvRd0lNEwGxbMQE4Z7BCsZIPBoCvl+qWGKAAQ0w4mvJvFp7fP1i+7UXNts/++zT9t9++nH7hadX+zXouZGXXn/CgldsC2dXe6+OuByCpqdi4L0YH7hF6dUzbUd4pbmbPrKYYT27XxD6iJRLQfhRBxE6CJ7JDuWwafV8WzSv2kMFfrB9v/3H19+1/9/r79gPfn7Ard7zZlfZuhXz3EpOnBzCl0aX/FjD6ZAtXYA7fuqOmKSzh2VoKIh2rIm8exDCEWwj9rEq0RkkbyZbYuNG5TN+0m/9bxGDlHCtQAgXFjZi4zEqYWBieg4EH3Fw6Bbi0RBL6J3IGERim32IumhAA7okGpFKCBmxbQiuiOg8vIDkQRuR7jc/1+YzRuOuoi1SgShC4sj40szXxk2mJqxtDDqIhrrG2StFrHFz+KAZhPDuu+96LBs3iPKmEBCTFOLd4HszsoT4OwIDowDGY8dYI7Ur5OBBu7dtit4VjRvBzLzU6fUzFBz3FA3gnfDdedh58dOQMBUI8UYkglYZCcoUIVFsDlaSebMTFjzANUqvXz04AVGnhcEGp85f8bqH6MBFX1FW6DFxqe6+u4G7MBpFefzsZZ9KA0vd0gV17j6d7EyfFnrAQby6NQ4rdvJ9FFmzKcfha9d94AcuUywpDY2tXp6ACK4JHa3KsuIHEsGTDcoBaxJCAwHCdC+plla8A7yrsHAyLyR5ozYhG1D5jA8vofAPz10sya86ftAPtP3EwWNpw+KGbsHChnZhDjfEGEIJax16gpGeDKpEXJGiFRM4Fln0ovwIQI4RX0/eSHzxuWgP7gGhh15hkCb5+Q5okmhZLRLb7ItGl0bTjYzGqG95GoeoAvLBfOnoJh4lfAdMmd/73vfsq1/9qn3lK1+x119/3W8StywT5SEkEYt3Ixq48Oabb9prr71m27Zt8/Rfv/99a7zYEG52mA9K5r47HggdGrf66jJ/YCMX1Z1u0QiqG40ofzQah4tX2u0Hbx2w//KjXfb2nhMek4SblPnbqkIDwWjBLcn52+jxY8FDuE0JX6dIG54FXOS4/A6duOgjIBmVzOjIsuKxR0ylQgzklSDUTofOxpGTjV5/GTDDwAQEy2QHQYqoZRoGhOinP7LefvdXn7bfffFp+/RHN3iZYb3euf+MlyXP2N7DidhA4tgYXYs1PTy2aTcYQmQVPDAhoW3jSv4chjRemJaDUaIYfdANaAZWcUK0YfSJwLLFMcQScW+sZoCAIrHNPo4RFkbeO/NHghCNRJw9Aox3NoINsUe+KD+hXQzgJLwrEoZss49j5CGmn3NHY4Roi0QOiS8BiDj2E/wfTf2BiOPLUSipiQ/HOvcwiIRkZJ7kJxYthNHDhsk1EWxMZkuAMsHdxL0w7Qcj/tgmFgZL3MK51Tanvtx7Z4wojQJVmWeMSU0ZOdocGhVcUkvn17k1DmsbUxnQ0NBoMBXBqnBt5mljFQUC1GlwSLhc3a2aYq4XUxt68wxGQWgwKzuzs19p7bZLoV4dOnnR52ejnjHa7eTZJk8IEiwAxG25u2dwyOc3ox4ytxuPDTGXxMMxMrMgf/K7RyO3L6P5iFuLRvv5z5DYx0TGp843BYE3mMgfBBtCj/KiDI+evuzztNHRYuQgZR1Nt0NnjTKd7PDOxFKEFYm6weopqQOY6Ghynz7jf2g9yfso3rOZgsrnweDOb0vhn1hSuNZ4wOKFtQujD3O9MtEt+oR9/MT6duDAAZ9CBNGFxsEQxJQpCK5UrxzbiCmEFHFwWMIQVJGXkXOZeoXrIQ5JDJLE+8g1seYh8hBjGJmwuvH90FgsNk9iO/IgRnmwAI7GiHnauJnvf//7fhG+JKKI4bF8aYQahYCYQ8Rxc6RU0YZqRFlG85WkAw8BVjQKkoBDAg8Z6RFZ/SiwyLx5N/8v+xlVwjUYMIHK5jolpWV2/NQ5u9zWa9OL6mzazLEHT1QGoYY7E4HG3GwM/8YqRs9846p5tmrJLO+pE5hKkCqT6s6rr/BG4IN9Z7whYPZ2RBxxSbi2Hlu3yF0wTAPCvT69eakLNSx6fAaDFpiiYWW4No3N7JpyKy7KS1wjNMCJmIuElQ9XLNdENJKXIeqTeZ62CKxLBMwzOvZwaEiJ/5uK87RFRPfLvFCIK9wv1AHqH1PLIDD2HDrr07xEZcKkuliLGMFMfCV/c9x+dCxwzdPwXA0vBEQJVqbtO465652pVFhpA9FGJ+BRdYDSYUT5hMYydZ42ptb52QdHvKyYT4vnlXgk8vET0cXzxvPB1Cf86Vhd4fiZyz59yskg5pj9nhUUGLjAvG98FgIPa3t+SFyH5y0OKG7cbo+63HlvUEfoBDC/I3WEDijvD2BgBvF/vL+A1Vl45zHAIxuYLOWTaSsidA1cs3kr11lZTPO09ba32JVTh600P8fb7fu9P9yN6ASE1E9+8hMfgBBNcsscsIweZV42xBWiC72CWEIvYFkjP2KNhJEKkUbsPjqEfPxOwnqHa5S/A6FbxMxxDi5SBk5wDsINoYeRifzErXGcz3j//fddGHI+s24wbgArIJ9xt/fxmJY2tjmRG0IF8uX5oLESJj6+UFwguLh5JsBj0AML16NgseZh6eMPM9aUH5HvGT92JPxIK1asDNfGPEoRjCyYO6HR6+oNFSH0tul1M81H6rxsdzI0NGytHb0ek4ZIS8xEn2jg6blFvTZcrXy6z7sVGhwmOmWCXqZgoIESAnh4qSvERuLOJDGizV3wY9RfHx15ddgbH2Z2Z/kd1kxkXjc6BkwvUx7EPuKQ6092EjF74aUY7pFnjcY2Kjss0wgkXtL+PIb/EGDEBdLgss6vTwUS8k11sAzRwSzMz3MBi5jtG0ismsF7B6su3gDWasUTQAgH06xkCyqf8cEbxFN43mJJftXxg4WLtn/lypVutLmb2xGNgyBkdgpEVrQiAkYjDEVcg2Pk4XzEHe5VfkefsIQVxir285mcw0CHaCoS7gXRhnZBlKWOWiVhhUvdT17OGY0RljYUH8oPmGYD0YMYw4rGRRBxCCaWmWK1hMjaFiU+jBvkg+Mk+mwEYbQiAr9jZUOVomQfhAddEYHGgN4VvS6sG6xqsOvgWXdNnbvY5jFqFDEjPn/87mGf88ktHPTYgiDjYe/sSeTBJbVoXo1PGEsMzq5DZ5NCsMPnc+O6UWLxcBocJtdNLFWUWEORz0HoYaYHWdomBkr/UVjasL5ilaUhwRWPdWnrukWecPtVh7/7lZYurwPEcX3ksRVuQcPqSxwbVrg33jtsF0LHgHpHGeKKx4KHFWqyCLYR5RO+e6qljf0HjjV4J2tBqMPE+1EGuLGYdPd06BSdDmWBZRG3qbuGw7lYHd2NmkysDkE4BnF+a5fNDZ+xwNYtn2dz6xNThdzPoI/7gWKfCEsbn8dUL0xZxHx/WO0ZMYv44Pv4yhJ7Tvrx5Qvr/RirAFCW2cBkKZ9MtLTNX7HOyqrrbgm4NFJve7NdOfngljZ0CIILgw2CjVUMMPpg/ImmECPheWMh+WiQAInPQDxx/LHHHvPP5Xf2I8hSLWDoDz6Da2BQIj+fsWnTJhd56CA0FOcA3wsRx2oHfC+u/cQTT/hPfmd/ZJW7GyNEG/5dfKyYElGPvLgwIfI7yjMa0YDlDeF0Z8IXyw2gHMcDn0dPOEr8TgFFCaGI+RIrIN8F9yiFOdbEeqPxoKIN6xiT52IOZ+QdAouEOwpTOj2z8tIit2iwDA5ia8aM8IcN35mh4czJRlxcbVWZx66xLBHnXAj5CCxHlGCVi64bJT63rqbMJwjFCke8DgIPEYdgYxQry/EwCpXr4rLFasBQdOJ1KLMo9g2rSyTy7sVEizYsJY2hASae6OzFVl/jz5cHC2IUocET7RMOh/tBHE+UdSQu0YZlFcERxathFTsaRAkChftFVCFYEAzEQvJ3IQ4NMUfCmoaoRdg9/+QqFyEIE8qLuDdcftRLAvQRKdTVqCPS3NbldZtGKlNHTEblw/NC+Rw/0+TrQXJ/xJjCYKgPuICZ35B6z7JChBGwAsLl8Mzy7DC3HeVInChijLLDwhaVY5SoT1dau7zcFwaRzPNFPCmfFZdgg3D5CRFtCctjYrk73ifEZ1G3eO6IB8T9fuL8FR+Fu2HVvNBRCB3jQqYnyo5lrCZL+WSaaOseDKIN9yiiLdH8pZV62pqtaRyiDZGEPoisYQwCIAaN7dSERQ3tgLbB4sVPtAviKcpDGBb7OJYq2ADRxmcg+jgHSx6J37G8cTwSbIAYw1KHTuK6fKcoNo59HBtLsMEI0YZ7k9EWuB1RfIweJX6MAuBL3CvxxRF7fIHxgFDj8/hchCGiLSooRCEuWvzAWP4oHP4Y3DCf/SCku/ZoxN0sXAQtswA4L3he+MS8sZQOcWq4pWgccVVhNUPg3W3pKebgWhby48ZBMLK2aORyBQQbc7594qlVHp+0JjTWPlihusSFF4MnEDZ8L0QO8w7dDxMt2hBs74Se7PZdx+29IDawbPKixOXM3GIIWu6H8uVlyQt1IohLtCFIEFVv7z7uMVbEqbHMGcstEWvFPfv9ho4AE8zeeb/k2X3wrAvz9SvnufCgU0Bdoez2HDlnp0Mjw0AF3IeIHwYvYL1lcAydD+qKC+IMhPJ5f2+yfPZRPue9MW3rDOUTyob7p3yA55EOEsdZ3o37ZGAB1m86WFgYsZrNC3WcTs9o8KydPNfkzxlCjeeQNJXWHuUzcRPzJRAlJ85ett2Hztq+Iw3+TsJq5GUVxG3UyeS7ZguToXwyUbTNS1ra4qB3nKJtKjOiy4howv3JYAMqBOKNfajM1ITpMTVF+1NNgeMBoRYFEbIIPa5aAgYJ8OMnrlqsbHwmahalzPZEwffFosVIPkagEZzK7zQgl5u7PDAaK1rCIsdoo4TFDlcNgc4nz10Zc/JcxBwNLFMSMKEqs3TzArkTv673Arv8ezDxL9aJyQ49XgQugb4rFte7gGUJmakKL31GHSOeiDdbFhoFLGb3gjnWyE8ZMfoY6yov8tTrrVg8y1Ytne0jkREfkzF2a1p4t+SGHjFCyt1SPvr6VvlQNygzgsYT95nnPVfKg9gjFn5ncAIxgfx+N5homE4YI8Hrw3VwS08lKxOChETdYoDVqtChRJTyrFEv2E85cixy+03G+jJeVD7jB9nKuyeOdNNPKm4y7QamrBTee+89+7M/+zMfRYpv9m7K9o7TQgEnSpZ4NlZKwAI2HhBsWNEQZ6yqj+WPa/N5iEdMmJgQWYGBz8EVi5+Z/Q/Cz9961778r/7Utu86YTnVa9zaNh54UFknM3KBIp4wnyO2aDDpyfOw00CQ1+/l+g0/Tm8eATd0jeWnRjfX0Hgw/Qe9uGjEKOfi2gKu71OAFOd7nugzMP9wzV4+p6PHzfwISb7f/fDM5mX2P7/yabe2TQS4IVr43j3hew9ddaEalRHWNaanYJJiAuop24ly62HFZDqOOx6HBwaBjVWsu7ff16Pl70svn6eKThD1oLQksfbhaPfL3xfrI89JtH4p5+EypJ4RSB0NiEHEIIYj2ET4cF6qAIoDvk+6ZQO3ymfAXca314dpocOY6/UBC+TMnOneQcKqSJ3n87nH0AyHfDN9TsSoDO/W0PrzGT6PvwPXZvJirN0I4DjBMBMNkJgIKEfqBdZXQjuiwVW8Sygj6lE0Ij4byfTy2bN7t33zG9u8Hr366itujZoI3t+xy77yl39lFzsH7JnPvmTzV65NHkmPyycP295/+r9tTmm+rzU6UfeXSYwQbbge//zP/9yXffjYxz7mwXR3ZLkriAVclQTkMXpiPOAaJW6N+eDeeustj6dLvPgTCbcrozsI2kvnc+ISbVOViRZtk4W4RNtUJfHcJn8RI5ho0SYmN5km2i7dFG3rkkfS4/LJQy7aZku03WRENzMKlCM2jQJijdFovdF7JfIipMYbzwa4V6NhsZ/73OfsD//wDz390R/9kX3pS1+yz3/+8/bpT3867c8RQgghRDxE3Y4UI754CIwQbbhUGPEQDUvF3fkgCctXOjFmfD6xccSrrVq1yoVj6hBdxBou0XQ/RwghhBDxgV4jYfmLI0kAjmTUgI7IFSmEEEIIcV+40GIy65ECbFwpcUmRwgjRxjQfWLJIbAshhBBC3BWUVUj+g5/hnzhS+Cd5cRExQrThdvzkJz/pabxB/kIIIYTIHiJpFafEklwbyQjRRiwb62VFa2YJIYQQQtyTpGEsMpKlm6LriVuMEG0MBCDAn8S2EEIIIcS9SNVZcSVxOyNUGX5kpv0guU9ZCCGEEOKeJKRWalxaWil5RXELmdKEEEIIEQtBa8WHFNsIJNqEEEIIERsIt1hS8nriFhJtQgghhEgbRFacSYxEok0IIYQQ4yZVZKWKrjiSuB2JNiGEEEKkTapbM5YULsZPcQuJNiGEEELEwk2xFUdKXFKkINEmhBBCiLRJtY7FkaJ/xS0k2oQQQggRGyMsZuNOXCxxTZFAok0IIYQQsSCN9XCRaBNCCCFEbEQGsriSuIVEmxBCCCHEJECiTQghhBBpQwxanEmMRKJNCCGEEGmCyopSPEi4jUSiTQghhBCx4LItqK04UtwicCog0SaEEEKItEiVWHEmcTsSbUIIIYSIjdHEVzpJ3EKiTQghhBCx4K5NfsaR+EfcxrQbgeR2VvH2O+/bv/7Tr9jeow02e8XTVlI1L3lEwPoVc+13fuVJ/ynuzvXw+Fy/fsOy8iG6H0LBZOkr5r6ggZsxfZpND0mIB2XP7t32zW9sM6rPq6++Ylu2bEkeebR8sHOX/Zu//Gtr7hm0X/iNf2aLV69PHkmP88cO2Dvf+09WU5xrr7wycfeXSWStaPtgx077i7/8K2vt6LVPfva3bOmKtckjAipKC23x3GqrLCtM7hGjweMjSTIGKpx7gjUhEXQtxIORUaLtqymibVU8oq3h2EF7+3uvSbSlkLWibVeo7F/72tft6vAN+73f/6Jt2KTKkAq9/9yc6f5TCCFE5pF5om3IXojZ0uairUiiLUIxbUIIIYRIC7r3DyuJW0i0CSGEECI2RhNe40liJBJtQgghhIiFOMMzE+NQRSoSbUIIIYSIjWhFg3STGIlEmxBCCCEyDsm2kUi0CSGEECJtEFlxJjESiTYhhBBCpE1CbE1zYRFHwkMq8XY7lIsQQgghxLi4aRlDZHkaGZ82rnTryiKJRJsQQgghYiFOiRV0m7gDiTYhhBBCxAZiK44kRiLRJoQQQog0QWVFSTwsJNqEEEIIkTa3ZFtc/0kC3olEmxBCCCHiQSrroSLRJoQQQohYcOtY+CeuJBF4OxJtQgghhEibhMa65dZMN0X/iltItAkhhBAiNqKItPT/E3ci0SaEEEKI9Eiax9ylKR4aEm1CCCGEiI0749LGnbhW4pIiiUSbEEIIIdLGRVaK2Eo7cTFxGxJtQgghhIiBZCxaEFtxJDESiTYhhBBCpMVtFrK4Ev+I25BoE0IIIUT6JNUWYiuWlLykuIVEmxBCCCFiQSLr4SLRJoQQQojYmBbTf7K1jUSiTQghhBAZh+TaSKbdCCS3s4pdu3fb1772dbs6fMN+7/e/aBs2bUkeeTCuX79uw8PXrbd/yNo6e6wv/BwO+6JizZ2ZY0UFeVZclG/FhfmWM2O6DV27Zr19g9be1WcDA0Oel9z0LPLzZ1pFaZEVFeb5uVyfa/b2DVhX74ANDV3z61Kbp0+bZgX5uSF/oeefmZNjM8L142DG9GmWmzPdf04EV68N28DgVesO99ze2evblFHuzBl+ryWhPEuLCyw/d2bihCylq6ffLl3psJ5QP26OukoeY7s4lFV9dZnXv2wmeh57wnN3ubnT+gYGQ92e7uVSU1niz2g2oudsbDK9fPaEduyb39gW2gKzV199xbZsGV87li47du6yf/tXX7OOvqv2md/6PVu+dmPySHqcOrLffvz//EcrL8ixV16ZuPvLJCTa0hRtV69eCw3AkJ290GI79p+2c5dabDA82NeCkKPxrCgrskXzam3pglpbtrDeCgtyrSOItTMNzbb70Fm71NTuoo8/Ao3s7Npy27xmoS2eV2OV5cUu0s6Ha546f8WOnm60lvZu/9zpocFBAM6tr/D8i+bWWHkQb/l5uX48XSZatPGSRIwcP3PZ9hw659tIW+5xyfxaW7Go3lYvnW21laXJM7IT6sTrP/3QTpxrCqJ9hguRUI28LiHqly6os089t9Z/ZjPeMQrpxLkr9sO3DvpzSoeH5/L5x1fawjnVyZzZhZ6zscn08slM0fb5INo2JI+kx+kg2n4k0XYbk8Y92t3dbceOHbM9e/bY/v377cyZM9bb25s8OnFcDw3BtdAbGxy66r33gYGrCREW9g9fv2GdPf124uxlO3b6srW293hvDcF26nyTXWnptJ7wUrg2POzXYLsp7Dt57rKLwL6+QbfaIQp7+wdtKAjExLUtkb9vwC6H/MfD9U+Ha2JFmOxEjSsWpGPhRXkkiJLWjh4bDPeOEOYleuJs083ypOdLmWQrlAflhHjDcktdon6I2xkMnZ+WUF8aGlvtZHj2job6c+TUJTt3sdWfrWxDz9nYqHzGD938RERa+v+Jkcz4ciC5nbHw8CDSvv/979sbb7xhhw8ftq6uLqurq7OKiopkrgfjUmOj7dq1O4gusw2bNlv9rNnJIw/G9eEbbkKnnSwsyLOFc6tty9pFbv1as2yOm8+xknUEsVZXVepu1F0Hz7jYwm21dvlce3zD4tBbm+O9NSxoF5vavSGZU1/p5/cH0YZVYMm8Wlu/cp5tWr3Ali+st5qqEq/Y54LA4+UyN+SvKi9OfLE0wUqDlY2fjxr+3ucvtdlP3j3k5bRh1Xx7ZvMye3z9IquuKLYzF1r9fuuqS62suMBmzsyxnJwZybOzC3r+uw6edbf4Lz67xj7x5KpQ/xbaljULvJ5gBaCe5ebmJM/IThC0x840hg5Ok4u3a9eH3RqJazRbLUl6zsZmMpRPY2jHPtyz263rW7dusdmzx9eOpcvFS5ds585dQdRetxVrN1p1bb1LrnRTe0uTW9vyZ053K9tE3V8mkfGWtsHBQbty5YqdPXvWjh8/7oLt4MGDdvr0aevp6UnmmjimBWGDW6qspNBdmogwhBUP+MaQcLtQ+bC4dXT3hd5at4uy9s4+j4mYP7vaVi6ZY6tCwzF/TpWLtJ7eQWvr6HXLWnTtOXUVId9s27Byvqd1K+a50KuuKLHm0Aidv9TqFrnJDr1VYvjau3qtqbXLLSSUYUKILLTli+pDGeXZwNBVa27r9oSVM9shJmvx3BqvF9Q7BBs/cYtmczwbMaE8Rzx7pxqaPZ6ttDjfZtWUWUFe9sZD6jkbG5VPeiAiY0nJ64lbZLxow6J25MgRO3nypFuhysrKQo8mc162xBDl5+d6MCoCikEEDCDAQkWvCwtZWWmhx7JhVu8fuGrXw096cVjo3Ep3/UZoXBK/427Ny83xAQlYT7CQ0KvDEsBABr828WZhPzFvCDp/wSTdspMd3A+4IRC5BPsSO0JCzHLPJaEMFoSXZ21libV19tqFIIApUyFGg2eOzgx1quFSm3V199uc2gq3WtNpylb0nI2NymechHYvGgwVR3LlJm4jY0Wbi5qrV629vd1OnDhhly5dcsE2Z84cKygoSOaaeBBQWMPyQ68d9ygiDbHF90dEEWNEXBp1Lydnuj/0s2rLrTyILeLbjp9ttH3Hztv+ow1GsCv7EGNY1gryci1nxgy/Lg0MYo5r81Ag8uj9IfRmhpdKfl44FgTkZIf74UXZ1z/o94tVpDCUKdsMvKCca4KIRSQTwxfFmWQ7lNeZCy128PgF23f0vB0+edGtr22hfG6OOM5CEGyUw6WmDn9uKsoK3SVaWZboXGUres7GRuXzgNDAhRSJLRducSS/uEglY1v5a9euWV9fn7W0tNi5c+eso6PD5s6da8uWLbOSkpJkrsyFHj7TejBStKWt203tCLbF82s9ho3YNxqTH24/YH/zvXc9/dP2/Xb2YovNn1Vp65bPs7KSu4tTrs2AhsbmDistKrD66nJ/kUx2ELr0WIeuDocXZBDCSREcwTYilt4ubi/yTgULYzrwcrsS6tjPPjhi3/mv79u3//5d++4/7bK3dx+3k+euhEZlIJkz++jo7PNRfwzUWTCnyl3GCLdsbxD0nI2NykdkKhkr2hgZyuCDCxcu+Au2srLSBx5UVVWFB+X+p7UYGhqy1tZWF37Ewu3evdvT0aNHrb2j3cUhLsm4cAvb9evWHXppDEBgtBqWOAYI4DotDcKtKB+r2czk9Aw0HlHzEX4yMjQ8/KTRvhajRhFsV1q7fJRpc/hJoDnDz6eCuydyG/MC5MWIFRFrZgRuZ8oTCySjc8nLOdkK87ARS7k0/P1xlVOnKJf27j47drbJR71dbulyawB1J1ugXhAk3tze7YM1sJjMqS33sqLM/JHLYtWm52xsVD7jJ3q04kziFhkr2tra2mzHjh3uGl20aJFt3brVhRsi50FgqhAGMLz55pv22muv2bZt2zx97/XX7eyZsz7QgRizuEhMAXLdG8p39xy3wycv2bxZlT6aFLcMLs0zF5rdnE6Q+C99ZL39zmeftt958Wn7pY+ut/mzq4IYa7JdB854rMSdcD6C7Wy4xtFTje5ORbAx+AGXq8guGJH8wtOr7XdD/fn8rz3jP1/65cdt69qFbuU9cPyCW5moMwNZ5CZlxDUDfhh4QGNaQsyp3KJCPFRcZLkh4nbRNe70gO19NpBxog3LF4MPmpub7eLFi25xwy26dOlSKy6OZzqLhwENAwkr2LmLLXYqCK+owWDiW0YbYQkZGBxy0dbc1mWz6xIT4zIaKUqz68rtShB8zOPGKggR9PiYC4jJdZmTi2tQn2tDo43QY1JeBi9MdnhI6cHSu+Wer14d9vi9CEQxvVpiBZmShLzZ/GCXFBXYikWzvO5sXrXANjFqeeV8Wzyv1t3lTB2DYGOai2yKbeNZYZoGAsTp/HD/pxta7Mhp5rS77KEFza2JUX/MidjQ2OYhDNmCnrOxUfk8GNx56t1TFnEkMZKME23EseESZeABgofBB7W1tQ/sFo0g/m358uX2/PPP20svveSzKpM+++KLtnDRQsvLy7Pp4cGMAx5qGoF395ywvUfOe8zDisWzfCUE5lBjkALztCHqroSGlOWn5tRXhP2JmAksclhO+oOwi6b8iOAFEa2k8N6HJ7yhWbVkjj23dYWLP2IrGF072eElSXkwYisxYfGQvzQj2MbVhQDBYkJezslWuHfqThRzQx1ArFWWFdqCIOYZdRyNnsymQGks0i1ticl0sTTuPHDG/vM/fmDf/C9v2d/+0057470jdujkJbeEv/H+UXv3w5NeRtmCnrOxUfmMnzillmTbSDKulg0MDLhga2ho8Fg05mhjuo9Dhw75HG2nTp3yfSTmajt//rwLvbuB0EPwLViwwNauXesT9JFWrlxpFeUVlpOTmJ5jvEQWNh5q3DGnG674EjmsjoAgwwrCaFFGGdEbo2dGfBG9evptPOhRr4J4JBpdrpdYvxQhmJhnykeanrnsrlOsJwxqwL26dGGdD1ggtiKd+8gUKCPKqjA/zxte4pIoS7aJ88OCwrx0TN1AbFJVWbHlZaG761YdueFzBRJvw5/fk/9OXUrsIw/1yCtUlkA9KinOd0s04tUt0TEt8TYV0HM2Niqf9KAliiOJkWSkaIsm0yWe7b333rNvf/vb9td//df2N3/zN/bDH/7Ql7E6cOCA/ehHP7Lt27f7CNOJpr2jN/TmT9veI+dcmGH9YkWExCSMtyY3RZjRK5sWSp4F5hOTMl7zSRqxvmFh8wYnnMMUIbwgEITnG1vtrV3H3DW6ZH6dPb1lmY+GS+SbOrOU02utKi/yFyblwiTEWBhZ4gvx2t03kLBUhnJjYEdkqcw2othJyoSEJRZLb7Sf8iIAvzXUJwa9EO9IMHW2wJxauIk//dH19oVff9a+9NsfD+lj9vJvPGe/+anH7ONPrbI1S2f7aggff3KlPb1paWyriUwG9JyNjcpHZCoZJ9qYOBeXaH19vQ9AIJ6tsDBzA+wTZvIhu9zSYQeONdihExddeBEIzYOO9Q2hdYxRfM0d3rDOrq3wBoKYN87Zn5ynje2m1k6rriz12beZ5Z4eHYvKs84dayUyJchAuDaL0l+8nLj2oeMXfaTqVJjagTmQ6N3iOsZVzLxIZy+2+uL6uw+e9bX+usKLk/0s48XgDkRJtkE9ovEgXou1ET88cj6RDpPO+QLyxFd6OYUyIgg/m8oJF3F9TZkv98Y0Hyw99Ni6RbZ59XwXa4vm1dysP0y/Q2gCE2BnC3rOxkblM05GM5fFkcRNMm7tUUQb64ki2NatW2dPPPGEPfnkk7ZhwwbfF40gxd356U9/2o9VV1f7eQ9CXGuP9gfxxOAABNU7u0+4eEJQYU5nHrYjJy+6ILtwuc29U8TP+coGOTPsnB+/5MKLfLg+mRdoyYI6W7d8rs2rr3JXKA0xMXKnWcO0q9d6wj4CrBGCB4NIZIQgvcC6qjIfHRcHuFonau1R/r64/vDtYUFiwX1elvuONFhDKEcaZFzD65bNtVk15W6ZTB2Onw341C+hs0C81hvvH7G3dh23faGeIdz2hvpCYD3WAh9ZvGKeD1ah3KbCBMzpQHxSZ3diKhA6VPmhoc3WtUf1nI3NZCifTFl79NKlRtuxc5cNXbtuq9ZutJqY1h5ta26yk4f3WV6O1h6NyLg3eH5+vs2aNctWrFjhfyREGYkpPxBxS5Ys8YEJpMWLF9v8+fMn3hIXaheB4KxiQCO5aG6tz53GQ30nCDYe9BWLZ1tdyMNgBXp1M8IDzzxrtdWl7lJlEl5+58XBywAxxv6VS2Z5nM6dkz1OFbhfEm7fFeF+Vy2Z7VZJBAj3y/5llF84xvJeLkSmYDnci1BKLqq5d09BjHnZhWM0HMzgvnRBrZcT62xSbtSjbIey8uesssSfVUIMsGhnG3rOxkblM14Scisqv3RTdD1xi2k3iFKeBLAiAnFuxLK9++67Vl5ebr/927/tQm487Nq92772ta/b1eEb9nu//0XbsGlL8siDQfwaMQ8+kWdrl1veaBzdopFS1+jRM2CAYGgqIz1+rGNMARL9AdjPItYVQaDRkPCCiFxg3b0D7nLFHYvII9g8IlRvb4jqguBDFMYBgiA39G74ORHQs+V+GbTBIAzKFShbAn95aRJvMpowzgYYWEDsGrE1TGfBSDbwuhT+IX4Ndx9rJGZzOd0JFkriRwlp6OrtD8/SDHdtZaNwAz1nY5Pp5bMntGPf/MY24zX96quvuKFjIti5a7f95V99zbr6r9mv/bdfsJXrNiaPpMeJQ/vsH777bSvJn+GzPkzU/WUSk0a09fT02OXLl32VBFY2YM62X/iFX3CX6XiIS7RNVSZatAkhhBibTBVtq2ISbcfTFG39/f0+ULGzs9O3mQd2RuioETePqzVaEjMaYY/OYI5YfpIXmGECvYF3r6ioyBiZn7ACJq7PQgDMLRtdn2PkI2yL6zODBZ8JrKfOtcmPIYrJ/YGpxzBElZaW+meNFe6VcTFtd8Pnn8rP95g24tmYbJdCHM/cbRBXTNtUZSJj2oQQQtybTItpGySmLQg2YtrioLWlyU6kEdOGoeedd96xN954w37yk5/4bBN79uxxoTVnzhwXVoBgQ0DhzfvpT3/qeTlv586dPt1Ye3u7x9oj9hLTKSVc4cx08cEHH9hbb73lqy69/fbbvkwm05ahVwjdQpBFIgyxxhRmu3bt8tkv+F6cz1RmzJyBuEO0FRTcfd3xSeOEj9Qu64+yaDwWNtSsEEIIITII+vpxpDTB8oVlC0sbS1o2NTW5CGPtcQRUBFYyhBaePNYpR4wh4khss49j5EFcRSs38fuxY8d8zlhWbxoeHvZ5Y/mcI0eO+LRlfD6WPI4hFvn8SAhyHRLbqfvJezcnqCInhRBCCJE2MWmtm6R7LQw9eOWeeeYZ+7Vf+zV74YUX3PBzJ4g64uURWVjHGPhIzDyJbfZxjDyRq5VlNrHMIdBwg/7Kr/yK/cEf/IH95m/+pg+kZM1z5pllkYDIkocAxNLHz2effda++MUv+jlss+/DDz/06w0NDfk5oyHRJoQQQojYYHBcHP+lC2KLGSZWr15tGzdu9CUtozi2VLCGIcoQYoRgpa6exDb7OEYeLHZY01i1Cfc0MWzMeMGgyMcff9wee+wxmzdvnlvVsM4h8sjP78TLEcuGGxSPIVOakfhe7MPKRgweP4l/Gw2JNiGEEEKkT9BZsYZBp3kt4sqwrBELR5C/rzWejEdLJRJhCCvyYp3DShdZ6tjHsWjZzDvzMxUZefm8mpoaXzoTMYdFDkEYnctPYuNYNICBB8SucQ6xcuzjGHkQiJw7GhJtQgghhIgNhFsciRnph69dc+sUsWME+acmZpIg3gwXJC7FO8F6Rew7ggrBxu/RyM9UOBcLF3FpiCkGOSKmSGyzD/FFHvJG+dnHMYQhebk+1j0+k0GSxKUhvvj+0ahUvguiDsFGrD6JbfZxDEsewm20+wGJNiGEEEJkHATkE/iPm/H111+3bdu23ZZee+01H7VJ/BhiZ7xEn4NQQmwhvBBgJAQV+zhGHvIyeABrG/sQa4g0xFdEJN4QiuRh0ALpfvNzbT5jNCTahBBCCJE22LCiaLQ40qOCoH9iyBBkCCgEFRY5EtN1sC8Sa9GcbogrfucYeVIteLhgEXpchzzRSNT7zc+1NRBBCCGEEA+RIERiVFs5M3LcMsUUXy+++KJPsJuaXnrpJXv++efvOsAgTkZzq04EEm1CCCGEiI3ISpV2mj7NcmbmeNxYtB55amJkJ5PtEw+GpWq8YOkazaJGYvtOC1yqZYxjWOlS51VLtcSRB7cn6X7zc+3RBkyARJsQQgghYiFOe9Sjsm0hyLDoIZaimDLEFSmKXUPUEd8WiTdi0MhPnBsDGBBcEdF5uETJw8hV0v3m59p8xmhItAkhhBAifVBZIU2LKT0qEEpY6xggwEhPJrpFXJHYZh/HIotelJ/RnhxjQtxokALiC1GG0MMqh9DDUshUIORnBCmjXRlVinAjsc2+aHQp88LxGaMh0SaEEEKItEBjRWmygWWLSXgRSyxNxfqgCCgS2+zjGJPmkvfO/KwdSl6EG1N7IMBwfyLYEHvki/IznQdzvDHpbiQM2Y7mfSMP66Jy7mhItAkhhBAiNlIFXBxpvGD1Yh431vTct2+fz/WGoEJYsSTV3r17fSkqrGLExjFRLseZ/y11LjjEFEKKVQywhCGomAy3vr7e49FYGYHr7dixwxMT6TJR7sKFC33iXEQeYowF6rG6YZFjmhIWiyexzT6ORXlwx47GjC8HkttZxaVQyLt27bbrN8w2bNps9bNmJ48ImD5tms2YPs1/CiGEyDwQCx/u2e2uxK1bt7jomAguXWq0nTt32dDwDVu9bqPV1M1KHkmP1ubLduzQPsvNme4DDx70/rCCbd++3X7605/6TwQVVjEmxmXVgQsXLrhrEoHEJLoMFsCyxoLyiDUSeRBpmzdv9oEPiCp+J+HaxDXK34EF4nfu3OnnIBYZOME5CDeEHrFw5CdujeN8xvvvv+/CkPP5/PXr19uaNWv8MxiIgHv1TmRpE0IIIUR8RCaydFNMRKM9iUNjHdKVK1feNkUIgxAQhEwtgsiKVkRAxLHaAVY4jpEHscYgAQYW8DvibPHixTcnzMWqxjl8TjQVCeIL0Yb1DVFGYpv8JKxwqfvJO5pgg2k3UsedZhG7grr92te+bldDz+D3fv+LtmHTluQRAVjZ6N3wUwghROaxJ7Rj3/zGNuM1/eqrr7g1aiLYuWu3ffWvvmY9g8P2ud/+fVu1fmPySHocO7jPvvefv2VFeTN8XrYHvT8sWrhCWY2A2DHcoNGktQgjBBauSIQV2xwnP6sr4K4ERBWWsmggQaoFLBpAQP5oYAHHEHBYy7guYpHPAq5P7BvfJ4ppAwRi9D34jLsNQgCJNom2UZFoE0KIzCZTRdvq9ZuSR9Lj6MG9aYm2qYjco0IIIYSIhxj7+XfxEGY1Em1CCCGESBs0lqfwTxxJjESiTQghhBDpgciKUkxIt41Eok0IIYQQsTGa1Ww8KW4ROBWQaBNCCCFELEyTynqoSLQJIYQQIjYQbnH+J24h0SaEEEKItLjpzZTGeqhItAkhhBAiNu6MTRtvEiORaBNCCCFELMSptaTbRiLR5oqehdFDYSjdTOF/IYQQ4oGh/YgjiZFkrWjzSuFibZov1ZSjdFuiTPTQCCGEmDDUCI0g6y1t1ImgT2x6+EcpJYUyUUyBEEKI+4Y2I84kRiD3qBBCCCHSZjTdlVbiH3EbEm1CCCGEiIGE3CL0KJaUvKK4hUSbEEIIIWJBIuvhItEmhBBCiNiILGTpJjESiTYhhBBCxIPU1kNFok0IIYQQ8XGnySzdJG4i0SaEEEKItIlbYyWGIohUJNqEEEIIMW7uFGuIrTj+EyORaBNCCCFEeiSV27QYtZZk20gk2oQQQggRGwi3OJIYiUSbEEIIIcQkQKJNCCGEEGmDcSyKRosziVtItAkhhBAiTZISK06VJR/pCCTahBBCCBEbo64jOo4kRiLRJoQQQohYkKHt4SLRJoQQQoj0QWSFhNiKI4mRSLQJIYQQIm3QWXFqLem2kUi0CSGEECI2IvGWbhIjkWgTQgghhJgESLQJIYQQIj5GM5ulk8RNJNqEEEIIEQvTpLIeKhJtQgghhIgNhFuc/4lbSLQJIYQQIh6ksR4qEm1CCCGESJsoBG20OdfGlfyqIhWJNiGEEEKkT4rYiiMl/hGpzPhyILmdVTQ2Ntqu3bvtxg2zTZu32KxZs5NH4mVw6Jp1dPXZlbYuu9jU7ulyc6e1dvRa38CQXRsethkzplvOjBk383cm81+43BZSuzW2dFpLW4919fbb1avDlpMzw9PDxB+a8PRN1PpvV68NW1//UCinHjt/qdUaGtvs0pUOa2nvtp7+wRHllm1Qd5pCvaB+nG9s9bpCverpG7DcmTmWl5uTzJndqB6NjcpnbDK9fGjHPtyz24XS1q1bbPbsh9OO3YtL4XvsDO3p8PUbtn7jZqufNSsh3tJMzU2X7eD+Dy1n+jTbsmXi7i+TkGh7yKINwXb87GXbc+icvb37uL374Sn78PA5O93QbJ09/f75JUX5VliQ5/kRbFH+t3aR/6TtPXLe9zW1dLloKy8ttOJwzsMkPC/hoZk40caLkpfjweMX7KfvHbE3dxyz3YfOhnJo8jK9EQqutLjAipLllm0g2N7fd9q27zpmPw9lQz3Zd6zBOjr7bFZtmVWVFydzZjeqR2Oj8hmbTC+fjBJtuyLRtsXq6mclj6THFYm2EWSse7Srq8sOHz5sH3zwge3cudN27drlaXcQWqTjx49bT09PMnfmMTx83QYGr3qP7OjpRjtxrimItAG7fv26XQ8POhaRsxda7NT5K9YeGtre0GvrCiIOC9vJkPfshWbPw0vB7Ib/vBauSeL8qQr3SaIsjp25bEdC2dHLHbx6ze+9u3fAToQX5rHTl621vcfLmLLONiiL3j7qzIB1h3rS3NZtR0412vFQd3p6B5O5shfVo7FR+YyNyiddvNsfQxJ3krGWtlOnTtl3v/td+8d//MebQi1Ke/bssba2Nps1a5ZVVVUlz3gwHralbSg83B3dfS7Kduw7Y/3hoX5601L7yGPLbdOq+VZdUeKu0p6+IautKnF3Z1t4KZy92GIHjl+06+EF8NTGJfbcYyts85qFtm75XFs0t8Zm15a7FSX3Ibu//JGZIEsbL8vzl9rsJ+8essstnbYhlNczm5fZ4+sXhXIrtjMXWv1lWlddamWhlztzZs5DdxdnGrhthkMHAKvr0vm1VlFW5PWtqDDPNq9eYLNCPcl2VI/GRuUzNpOhfDLJ0rYrsrRt2hyfpe1Kox3cJ0tbKhlvaTt06JALtGvXrvlDNFmgUe3q7rf2zl7vlc3MmW6L59UEwbbANoVGlYa2MD8viLkht5IQL3EyCDyEHD22qiDqViye5Q0w5yDaOKe+uszy82YmP2Xqwb3jkmjv6rWm1i6P8Vs4p9q2rF1oW4J4Xb6o3kqK8mxg6KqXG2kwbGcbBfm5NqeuwlYummVrk3WjuPDhuswnE6pHY6PyGRuVT3ogImNJXCtxSZEk40eP1tfX26c+9Sl7+eWX7ZVXXrE//MM/9J+f+cxnMlp1I9qIWRsID3tpcb5b1goLckNPbLrNmD7d8kOjW1tVaiWhoeWBx4W6/1iDvyDmzaqy1UtnW0VpkU0Peam8/ESskdiequB+wA1B2eXOnOGWJBJxf1gXKa8F4eVZW1libUEQXwgit38g+16W+aEsqD/1NaVWStmEXv50KopwVI/GRuUzNiqf8aO30MMl41v/oqIiW7JkiW3cuNE2b97sJlLS8uXLrbg4s4OtozYU++D16zc83SDdSKTrNxJxb8REMArw3MVWF3DTp08Lx82tbwTAHjx+0U41XAm9vj4bCmJwKse0RWK3r3/QR0AieAuDwGU7Z0ZCuNZUFHvwb0/f4M04k2wDN0xxYZ5b1ygbRrBN1KCRTET1aGxUPmOj8kkP3kRxJDGSqWuymWBmhka1rLjQCsLDzSgjRvt1h5cA5nTi3Qgev9jUYQ2X28ID3+uxEeRrCQKusbnDDp64YN//2T77j997z77zX9+3H2zfb0dPX/K4N86fquCWoMc6dHU4vCBn+osSQRLBNiNt6e1SDuTlHCFSUT0aG5XP2Kh8MgMJt5FkrGiLguB7e3vt9OnTtm/fPh+AcPDgQTt37py1trba0NBQMvfdIQ95OYdzo8EMR48etY729ocWK+eiraTAKsuK/CfWMQYZ7DvaYPuPX7BT55tdpPHAk4iZYLACvTb2MyqQ3h4vAubkutLaZYdPXvKRTMTIRda6qQb3FN03L8aZM2e45TECFyBly7xIBL2SdyqWg0gP1aOxUfmMjcpnfIRiiTXJ5DaSjBVtEU1NTfajH/3IvvWtb9k3vvEN+853vmNvvvmmT/nR3d2dzHV3yENeznnttdds27Ztnl5//XU7c+aMDQ4MhAdzOJk7PnigMZ3Pra+09SvmWXV5se0+dM7+9gc7Pb2752QQjMNWUVroJncqKA89LwkEHPs/8dQq+81fesw++examxeug2jjPKYREUIIIaYyWix+JBkr2ohXW7ZsmceulZeXh95O6NEEcdXe3m5HjhzxUaWXL192S9zDEF3pQu+MuIeqimJbubjeRxuVlxR4PATHCG4lJqmkiIkZcz0v4o0Ac4JdGUa+IpyzfsVcHzlaV13mAa/EuXX3DPhcQVOxY4d1FcFLGSFgmUyYWMAILJb0an0m8tDzJa9iucSdqB6NjcpnbFQ+44UySHjJ4khiJBkr2hg1+ku/9Ev2xS9+0UeL8vPzn/+8PfHEEy7c9u7daydOnHBL3MDAQPKskZSUlLjwe/755+2ll17ya5FefPFFW7RokeXl54cH8+HNrYMwWzyv1p7evNR+/Re32u/+6tP2O7/ypL3wzBqbO6vSR5SWlSRGJmGZQ+QtmFNlc+sr/BgxE8zLRkLU8bJgaDmJiXqnGrwkC/JnuqjlHnEN89KMYJvg4KGhayFPjuflHCFSUT0aG5XP2Kh8xo+k1sMlY2tZaWmprV692h5//HHbunXrzVGjWN/yg9BiNQQE25UrV2xw8O4zwOfm5voEvAsWLLC1a9fevM7KlSutvKLCcnJwTT68akbMA1MyzK4pt5WLZ7nVjJ+zasq854bFrLK8yN2f0cS50Qsg6m3MmBFSMp7iho9FnbrQY0W8MocdbmIGaPQNDPo2ZcVo2+b2Hp8DD0FcVRbEbHhpCpGK6tHYqHzGRuWTBqGporWKM4lbZKxoQ0wVFhZ6YhtrGGKtsrLSLWRY4vr6+qylpWVM0TbRYA3jASexzQNPD424NAYm4PJkrh+E3PKFdT7TNu7PK61dfg5xbww8YGACLwyqMNY3RjRNxfna6LVWBRHLC5P7ZYkvBmb0hDJgwAajbs+FcrvS1u3z2M2pr3CRK0Qqqkdjo/IZG5XPg+MCK/wTq8iSYhtBRrb6iBuC8hEliLXI4hT9Hu3zdTyTeTOVniDQTl9otv3HLtiHR87bh4dDCj9ZdxQYXcokqfNmVdiyBXU2q6bcXxINjW0+8IDF4kkXr7S7G3VuXYVP7EhsHA/IVIP7onfLQIy6UC64hM9ebPVFmncfPOtr/XWFFyf7a6pKrCYIXgRstoHwP9/YakdOXfJlz1gHsbWzx6eMod4wUTONCp0CGplsQ/VobFQ+Y6PySQ8XbzEkMZKMW3vUrVHXrnligEEk3vjJvoaGBnvvvffcwjZv3jx3e2J1wyL3IDzstUcjmCn7Zx8ctbd2H7e9QbAhwJgst6O73+bPqnR36RLWjgy9taKivHD/N+zC5TYXdUzvwRQhNMJY34h127Byvi+HVVyUWLII8fow4KqRWH7U8Jmsq8lTS7DvibOX/WW570iDz2vHoI2lQeCuWzbXRS6ujNTh+NlAY0unvbPnpG3fddze+/Ck7Tl0zusMc/5dau6wS1c63FLL6htMwMuyV9mG6tHYqHzGZjKUT8atPRra040bN1vdrJjWHr182Q7s2+PhQYQ1ae3RDLS0IdqYWw1RxijRXbt23Uw7d+60Y8eOeTxbQUGB1dbWesrLy0uenXkwnw9xbZFljN8JbsXCxuhQEvO4sawV8WzEtTFNCNa3fHeBkj/HByisXjLb85cU5/sLhTTViO6LEbTc66pwz75AfigD4vzYj0WSY7iSeXFmcwBwoj7leFzkisX1tmxhnVtisx3Vo7FR+YyNyic9QunF8p8YybQbGeZbJD6NxeKZ/PaNN96ws2fPBuGSsLRheSO+jaWtli5dah/5yEd8iSsEHPsfBCbY/drXt/nEiL////oDt7Y9DJgs90prl8elIUgjCvJyfcRocVGeizMeeP4Q/QND1tbRG84b8GHm9PR4efBS8PyFifwsY/Qw4XFBMPLZEwE9W8qC8mPRfSYeBnqzlAEvTeJNKJdsxOMiO3rcAssqG5RXNCUB1jXia8pC+ZSERHnR2GQjqkdjo/IZm0wvnz2hHfvmN7aFzpvZq6++4taoiQCv1de+9nUbGr5hv/f7X7QNG+P5Hvv37bG/+dY3bOaMaT7rw0TdXyaRcaINKxsT4mJR+9nPfuYT4AJfE9FTUVHhAxEY/bl+/Xqrq6vz4w/KoxJtk5WJFm1CCCHGJmNF26aYRNteibY7yTh7LhYz5lZbsWKF/fqv/7r94R/+oac/+qM/si996Us+VxvztyHYmHRXCCGEEFMPmQxGknGiDVdoNLfaqlWrfI62KD322GO2YcMGd41iYcvkWDYhhBAim0BkRdFocSQxEkVOCiGEECJNElKLiJpU4RVHEreQaBNCCCFEbBALHUcK/ySSuIlEmxBCCCHSJm7LmOTaSCTahBBCCDFuboq15EaqkSydJEYi0SaEEEIIMQmQaBNCCCGEmARItAkhhBAiFuL0aspFOhKJNiGEEELExp2xaeNNYiQSbUIIIYSICamth4lEmxBCCCHSBrnmVrLY/pMEvBOJNiGEEEKkx8NQWFJsI5BoE0IIIUQsuHYL/8SRxEgk2oQQQgiRNq6zYhRb0m0jkWgTQgghRGyMZjUbT0qY7fySIolEmxBCCCFiITF8IB7ivNZUQaJNCCGEELERjf1M9z8xEok2IYQQQsSCuzXFQ0OiTQghhBCxcWds2rgT10pcclxcu3bNuru77eLFi3bgwAHbsWOHp71799rJkyftypUrNjg4mMw9OZBoE0IIIcSUo7+/3wUbQu073/mO/dt/+2/tL/7iL+yb3/ym/dM//ZMLuc7OzmTuyYFEmxBCCCHSJrKMxZXSpauryw4fPmyHDh2ylpYWt6oNDw/7/qNHj/qx5uZm33/9+vXkWZmNRJsQQgghMo80lNuNGzdcqL3//vt25swZ27x5s33hC1+wV1991V544QUbGhqy48ePuyWuo6PDrl69mjwzs5FoE0IIIUT63GkqSzPxYzwQy9bb22ttbW3W2NhoAwMDtmjRInv88cftiSeesFWrVllJSYnvb2pq8sT2ZECiTQghhBBpEQmsFM2VdvLRCOMAKxpWNixoeXl5VllZ6am0tNRyc3P95+LFi62urs6FXUNDg/X19SXPzmym3cCGmIXs3LnTvvpXf2Wdnd32mc++aCtWrkwemRj4M+BrhxkzZoS6Or7KGhc+S074ChP9PSIyrXwyDZXP2Kh87g+V09hkWvkcO3rUvvf631lZaYl96Utfssceeyx55NGyZ88e+3f/7t9ZZ1e3ffJTn7aly5Ylj6TH8ePH7B//6/dseijnz372s7Z8+fLkkQQIMixmxcXF/hNBBgwuOHv2rA80eO+996y8vNxeeuklW7t2rR+/cOGC7ycP8Wzz5s2z559/3hYsWODHM5msFW38wb7yla/YsWPHvYJVVlUlj0wMmHMj82x+fr7l5OT49kSRaa/qTCufTEPlMzYqn/tD5TQ2mVY+WIlOnDhuK4KY+ZM/+RN76qmnkkceLfv27bP/8B/+gx07ftwqKiqtoKAgeSQ9uro67WIQWIjjuXPnuoUslerqahdyUapKtuOtra0er3bkyBEfhMD+X//1X7eVSeMMLlOE5qlTp9wiN2vWLPvFX/xFW7JkiR/PZLLWPYoqX7FiRfgjrrDyslKbEVTKRKb+3h47ffKEJ7ZHy/Mo0/QMS32hTE6FsiGxPVqebE4qn7GTyuf+kspp7JRp5YOFbWVox2jLaNMmipvtaUh8p9G+63hSWRBpXBdB9iD3x0hQXKSIbCyiM2fOvM0qOn36dLfKIbrJQ97JMno0ay1tDPk9f/689fT0+B9uws3cx47Z66+/7tsvvviiV1RxC5XP2Kh8xkblc3+onMYm08qH5hvRgXtw/vz5IyxRjwqC/gnmZyJbxE+cAiiSKKO10XdzjzKNB9N58PdiEt2amhp3r0Z/L77r/v377cSJE+4qJbbt05/+tC2Lya37MMla0ZZp7N6927Zt2+bbr7zyim3ZssW3RQKVz9iofMZG5XN/qJzGRuUzOZB7VAghhBBiEoD3rLCw0C1vxCBiCcQiGcFgEkaLMgiBPOSdLPGbEm1CCCGEmDIQw1ZWVmZFRUUuzAiHQqQRu4ZgQ8ix7iijTHGrYomLXKuZjkSbEEIIIaYMCDBGliLcEG2Msm1vb/eYO4QbIu706dMe28b8bcQDYm2bDEi0ZQgEVFLJSGyL21H5jI3KZ2xUPveHymlsVD6Tg8g9iiCrr6/3vxUi7YMPPvBErBvCjf21tbWeJsvfc8aXA8ltMYH09/d7LwAzLSNcmAxQ3ELlMzYqn7FR+dwfKqexUflMHhhtShwbP1lXlAXiEWwMJjl37pzPs8dUIhs2bLDZs2e7dW6iZ5G4HyTaMoRolm1eBoxkmSym2keFymdsVD5jo/K5P1ROY6PymVwgwrCgMS8b7lEGJLAPsY3oXr16tS9nxe+TQbCBpvzIEPCz04OD1PlmRAKVz9iofMZG5XN/qJzGRuUzucDShnUUVyhxbWwjefi78fcjIdgmk6tbok0IIYQQYhKggQhCCCGEEJMAiTYhhBBCiEmARJsQQgghxCRAMW0TxGgBkkCAJIvfsvAvEwNOpgDJOKE8WBOOGavZprxmzJjhZcLwbAJIsxkeW8qkp6fHy4mfjGyLHmfqTVSPSNkYME1ZEDR++fJlLx9+jxIzpjNbehSIzPB/YV5ely5d8lF2zHVF+TCHFWWVzfCeZmFxyoeRiNFIw+gn5cR7iWdOiIeJRNsEwcN/8eJFn+Rvx44d/kLgT8FkgMwds2rVKlu3bp2/MLORhoYGe+edd+zgwYO+zRIkNKxr1661X/3VX/Xh2tkM8w7RsJ48edLefvttX/g4Erc0JExJQD1igWSGtTMZaDbBs4SIZdHoH/zgB3bixAn//fr1654Q/wsXLvTy2bhxo0/Ame1QZseOHbPvf//7dubMGZ/OgufsF37hF2zRokXJXNnJ4cOH7bvf/a6XD4KfDiTPGQkRRzl95jOf8WdOiIeJ3KMTBD03XgSHDh1ySwlLbdCosJ9JADnW3Nzs+2lkso3IioSlDYHLciOUFWVDGWU71AmEG/UD8YZgiyxt/Ozo6LhZv1hjL1vrEeXBfUdlE0GdQtDRaaJu0SkgT7ZC/aCenD171suFukOHiVnkeQ6zndT3NZ4R3k+p9UmIR4Um150AeNjpyWIBwBWxZcsWe/755+2pp56ympoaf1EiVpi8EdcNri1cFdkEL0Ua0cjyiOWIyRFxPzz22GM2Z86cZM7sJBJt1CXKZOnSpV5/nnzySdu0aZO7a7AKtLa2utsm2+pR5LbCTYy1es2aNV5vSDxv1CsECs8ZVkjKi7xYUbIRni1ECZ0iOos8f1iQKDss/nV1dcmc2QmekPfff9+fn1/+5V+2T37yk/bEE0/Y448/7vWJMopm1RfiYSJL2yOGlyGWEXprjY2NNjAw4K4HHn5eArhFaUDYjwWAxHa2gWuGRXxx7eG+QrhRLiIBDSoCo6KiwssGobZ169abwgQRh3ChMY4WSkbkZROUEfF8uK5oWCkfEts8cwhfnkOEW7Za2hD91AvqCC5kOpG4jukUFRQUJHOJCGL7lixZ4u+kzZs3e10i8Qwqnk08CiTaHjHMqI07FPcVPXt6/KQoWJyfLKtBz5YGJYrnyjaIX6MM6L1SJpQVjbBIQEwNwhYLGtYQLJHUn0jMcQxBR0NCo5ytooTywDpCYhuRglhLTdkMnUjqBu8k1mPkvTR37lxbtmyZOklCZCBqBR8xNKD07LG2IUQQJDSwNLg0xIgVGmF6u1hHeJki9LINyoJeLaKDcooCf0UCygIhQtlQf7CKUEaIEBpiEtvkQ8SRslX0ct88b7iLGfTz7rvveiwbIhbRyzNIXaP8sg3KhVAN3H/UFTqQdJaiToBIQNmQKC/CV/bt22d79uzxuD/ELmEI2fieFo8eibZHTNSz5QFHoNFYpMYZ0XDQCNMYk4e8nCPE/UBdIXAcKy2udbYRJcRKUqeyEaxrjNT+3ve+Z1/96lftK1/5ir3++uteVowgxQ1PXFs2lg/1BCGLaxSXMe5jhBsCRYyEZ+pHP/qRfetb37JvfOMb9p3vfMfefPNNH7xBJ1uIh41E2yMG6wdijAYDgYYFJPUFiVWAHi5CjjzkzXYXjrg/qCdYcbEoEWRP3Ypcp7i6UjsH2QwiDnj+KBN+8txlk1Dh3cKISAYdIGixIOEWJRZSsVkjoUxwGRO7hnWWOoOlllhArLaMKmU+QMoxG8MQxKNDok2IKUDkFiWQ/I033nD3DZYTRpPi7spm9yhijMD6z372s/alL33J/viP/9i3sXRTXjS2xHJlk3sLCz4uUe4fEUs4RmpspLgd5vH7pV/6JfviF79or7zyiv/8/Oc/74PHEG579+51a2W2DhwTjw6JtkdMqiWNHlk0bUNEqiWOPOTN1sZW3D+4QZlglykbsJxQj7AMMNUFAxKyvQ5haWQUKaO0n376aduwYYOXC88f1qZoLrtsAWGBYGOgE/FY3D8TNWMxYuoP6hL7SMRwnT9/3oVetkKIASPZqT/RCGQSzxjin+cPwZZt9Ug8eqQGHjEIsWjgAS9OzOkItAiEHC9HHnzykFduLTEWCDSsRVjYdu7c6a4c5o2ikVmwYIHXIZEg6jTRCGN9w8KEaEHoRkvJZQO8exAYuNGxEL333nv27W9/2/76r//a/uZv/sb+/+3dSahc1RaH8fN4I6eKSLBv0Igx9n3fThSi4EDUgQ5s4kDEoaM3cuzQDlRsRiKoYIPEJgY19knsW+xxoCIoDpw8f0tXqHffLXNT9+bGsv4fHKrbtbs6Veertfc5+6mnnho2b948bNmypeZwrV+/vk6KmlX6d7t/jw2PkjXz/0S0ReL8bveF0kPYUUTalhnDVA4UTkDw5TavxJdddI2w9Y+puUmiAxmuCH8F6Xf2monQoiP+8RM1ETZzlOxr9rlZQ/Ta98kfIpv7njNUStzcetyR7VmbO9q/Q2SDdNhXIvfzY7+wr9hvyJp9p/cjj/s56TptCDuKSNsyQ8CcqeYHk7Q5e6svfurAQeIMRwi1+xfnzLb8mIZx+GdvjVZnAJIT+4sLf5I20aRZxcHTHyB/iNy2lDmg6idyK7pmaNRZo7Mmt4aGXRx2zZo1NUfrpptuqrl+a9euHS6//PK64v/q1asrYnv++ecPp59++sytXwv7jP2lxd5wesuZ5/1umxtoPxJ565VHQthRZBmrZca/M+F1cub6SH4ISJmDSM8fcfafA4kfVVffNtw1a0OkDrbm3Igi6adeC5Hoij76Z+tg7Mez/+3OEiJHhvMMba1bt67mInlOBNcBWb/Yn/whcHCBPrL/zQLaLApp6NN8LAdWf4TsU2TN/C2b75VVSFzQ2p+kWbnsh3aL5BMxF7AWabN1H5ATfyh91wibsyZnMWLrO9V/rv0W2Zd6PzIfUHTbRtRMR7Af+f7N4uVjwvLwr9//eSaWuxNwENm4cWMdbP0QkDgHVF92B16Tps8555w6Bd8PwqwcbBs/kObRmFejr/xA6ifiQWR7eSsRJZOBHWxmCUJCylwo1lwk8uYA21svQeSATP7tTw7Ks3KVe0IrCunEjA0bNtT+MzokSlr0kX2JlPie9XylWcZZtOa5mctm3xI5uuyyyyriNov0FBb7kTmj+sZvsf2I0Nlf/F7bf+xH9if71azvR2HHkeHRnYThGOKxatWq+rdLzAiJIa2VK1fWay6IKuQ+a8I2irbrGyKiT/TNrIjHQiAa5rDpF9GQrBn5BwTNgVN0yK3vluds9infM7Jvn9JnHudA+0cETmTfXDf7k8jRLF+3rfcX+898+5HfcfuRaO2KFSvqtyn7UdiRJNK2kzB8IxrgX5zQu/s+CoLii2/zL3dWw+yGR80T0T+jc5Lgh5Os9BJEDir6bZbwL1+/iIw4c9T+Q1D0zSgEznCN/WmWIgD2FftMLwVnfxr9qdNXIiSz/j2bi98l+5VIru+e/cX12/TVLGI/6rlrItv6penf6+xHYTmJtIUQQgghTAEZHg0hhBBCmAIibSGEEEIIU0CkLYQQQghhCoi0hRBCCCFMAZG2EEIIIYQpINIWQgghhDAFRNpCCCGEEKaASFsIIYQQwhQQaQshhBBCmAKyIkIIE/DTTz/V4tGWt7GUTa8P69YSSZa1saasJW6sU7hcWK7Jsk2//fZbLfXVm6V4PG9ZHkt/eU49u97bopc3snyW9ljeyJI9c5fNWiosofTVV1/VUkEWvVdndR3Xl9ubfhw+1y+++KLu77PPPrW25FLSS49ZiFz9rC2srln+KISwECJtIUzApk2bhnvvvXf44IMPam1PB19C5OBrDUKLSJ922mnDfvvtV4KzXOJGODZs2FDysddee5V4qAOpefHFF0saDjvssGHvvfferrUSf/7551rjlBSSDeu9WpOS/O0I3n333eGhhx4qSbzwwgtrYXd9PE4Stzf9OLZs2TLcf//9df+KK64YDj/88Lq/VOjDt956q9bVtV9YmH3VqlXD7rvv/meKEEIYT4ZHQ5gAUrR58+ba3G9Izeeffz58+OGHFYmzyDRRWi6UT9w+/vjj4ZtvvqmojoXTF4s2EA5tkv+ObhfJJGJvv/328MMPP1SkjxSPY3vTj0N/9efq/lKz3P0YQvhnEWkLYQJ6iFAka82aNcN11103XH/99cNFF11UES7yRNxE4gyhzgepmEQsJsFQ7cknnzyceeaZw4EHHlhRNsOjC6Vlg5C2bBjiCyGEsHz8+z+/8+f9EMIC6WFIw4sXX3zxcNJJJ9VcKiJHbkR+RHsMJRo+NWxnztXXX39dQ2PSfPnllxWl66FVz3/77beVRlqRsu+//3749ddf6/3y7uE+zxGnTuvWYxGcjz76qISKqBl2s3mfssx1U2fC5jnl/vLLL1WONqmTctVDfoRTG9Tt1VdfLREVySKl3quN6gYzLTzv/eokj85L1Ep6sqtctx7LX1pla8N33303/PjjjxUpfOONN6rsY445pkS46zwf8nj55Zcrz9H0ZHO0P3szv2++flWPF154od53yCGH1Guj/WuYWFp5a4M261N9K43+015b7wfdZm2Rzmfkec+RZ0PVSz13LoTwzyRz2kKYAAf2W265pe7ffPPNNX8NDtpk7pNPPikZ2nXXXYfVq1fXwf3NN9+sAz9p6gP9/vvvX9LnoP3666+XFDnYkxlCsdtuuw0rV66s7eCDD67HIBIbN24c3n///ZIQkuGkB+8hVSa3K9d8KfO7lPXkk0+WqBx77LHDQQcdVFJHusiGiCBJkpe6EgoyqX6nnHJKSdcDDzxQw4/kw4kW5rQRmxNOOKGid9pA7l566aXh008/rfb30Oyee+45HH/88dUG75M3sdRPzz//fEka4SNDXlfeK6+8UnO+rrnmmuHEE0/cevLEfBC2W2+9tfp1NL1+euaZZ6pf1UeZ+kjbDz300P/r1/5c9cO5555bwuu+fttll12q384444y61QZ5+ay0Qx1EIn0W5FEf7rvvvhXhNMdR/5C55557rvYTJ7CYb+h14hZCCNsiw6MhLCEO1r2JsDiokwViRIpMQiduZEYat6JcXhflEWly0CdONhEZQvXee+9VOnmRMukJG9khDfIiLMRHpKqjao0IkbTeo/wWGHkRMZvoU9dL2epuc39bKJewkBfiJv+eV6Ye6m7OmfLVlwQRKulFnoiqdnuPNpM2eXR9JmW+drjVP+qiX5U1+rry1EXf6Et18Nhn89lnn1Wd1V2bu19FN6VvKdQOr+trn5800oYQwmLI8GgIE9DDaBBlE1FxsCcfhhFFVERWRHQMgTmgi6ThrLPOqrllIk8HHHBAHdxFc8iDiI/Iy6mnnjocddRR9V4HfPJg+FX0RlrPEQ5Ru/POO6/yEzkSvWkxEsUxTCha5DFhJCCiYqJZolba8fjjj1eehhVFkUSpROOcZSoSZd4eASU6olfaesQRR1S56qkNZOW1116rCNIee+xRET7tk6c8RKVaDKWH9GSH4Kjr2WefXelFJwmb6JjhSfVRpvpq/3yQqPmGR/WHz0Gk6+ijj67X9KtIJJnSJmX7nORNPJ999tkSLJHKI488soa+RRS9rq76Uj92v4rkabeInX7Tbu8VPVMHUUefn8fyyPBoCGFSEmkLYUJEZjoSRkBsokkiTSTH0J5hQcNqHttcKoO0kB4HeDJC6MgL0esImbylJ0OiNSJrhMd9YkEOvd6CdNxxx5WMGLYzdGkI0+vjUIay1FWeZMRQqDrZyA1hITskSr1JCnHUJm0gJoZetZMsEUntV8+OOGmHjQSRFZv7+k16smjOn3xIlTa4T2QI6WgEbBKIkf4njfqkETlTNmlV344MQnnK1lbCqR/UTb3UtaW5I4Lk2eZzlIe+6E0a0iZCp4wQQlgMkbYQJsCB3QHaQf+RRx4ZbrvttuGOO+4YnnjiiZIhIiPyRXpIlIiPaI7nRdNIkCiSYUISIKokEiV69+CDDw6333575ffYY49tPeCL1pAsUSXis2LFipKnzksUjGCJMnmNqIyDVMlLpEi0h4ipX+dFcIiLbVR2xqEdpFMbzNl6+OGHh3vuuWe46667hvvuu294+umnq97Ktam/9G6VLfpnTp42qL/onnottPxxkCZCtW7durr+ms/pzjvvHB599NESL9KlX6VraYN+ILGicOplU0d19VmQZnV337DpO++8U3MGfXbafPfdd9d148xvFIXTPwQ0hBAWQ6QthCXEwZ5IidCIohEhwkaEvGZYjph4joyIeBEGQ6SG0rwmOgSRMukNzcmP7HmPtIbnyKDIT+fl/aJK3tPyNQ6CIh8CRe7m1kvZ6mH7q4hdIz8COLcd3uuxfujhVmVJT3rmtkOdvW64UL0WWv5cOn9CJYop2qV+ZLvbpl7u6wORt5Yqz6kLabRJ57E6qpvPjKypu42Que10+k/++sAwtDaLgPpMQghhMUTaQpgAB3aCMXqdNtuVV15ZZ4Oah0VUWoDcSm9zfy4iZM7C9N6rrrpqa36u/XbDDTfU1fnNlTJkR8z+jhAikcQLLrhguPrqq4drr732f9px4403DpdeemlFsMb1w1JBwkTDDMcSNnUzZ67rdckll9Swsn4nWNszDOvzbLSBqInIuUZft7e3tWvXbr1+nyhdCCEshkhbCBPi4C3yIhLWc8HMfxJZcYAWaZl7gJ8rKqIzIk0iOm6Jnvd3fuZSmf+mDPPXRKBsREEkqc9uNH9KdEnUR+TOax6PgzSpn+FHgtPRvs6LwBCZlhntIDfq77E0o8hP/UUDzX0js5aAGm2HOXCikNKpv8iTWxGwbkdH7Awxd/RroTI1iny0yTwzt+on2mXOnHqJgpLfnnvWbYZbdTF02nMMPVZHdfOZdd3d14+icITacHjPV7R1eT3MGkIIiyHSFsJOhDgQPCLjBANnfhKFlqIePiUQhIx8GHKT3pww891a0EgXsXDSgtdIzzjIGrmSj7z7RIfOS/k9/8x9skZQOiqlXl1HaAdpITOiW+aRqXdDegiUzX1DnyRUenP6+rpu2mjum3lg+qHL3168pyVQn2kvySJk6uXkC+Wa16eMuaiLz0Nb9KvH6ug96iyi6LaHo/WPenf6Zm67QwhhMeSSHyFMwHyX/JgP4kSKSAIRISsiL4QFpIIEEQdpHPA7ika8iICyRHgIAnES9SI38pNentITL2eyWjdTnibOj7vkhxMVRIc8JhokjITIl7yZC0ZQyIpyyQ6Jkk+v0kBUuv7aqS7q5r76yLOFsEVSO0mOdNJ7v3yll4+8yZJ2OBNVdMolULb3kh/EVt4ETdnuE1Tt6X6yOLw2jC6gr93r16+veuuj/iz0tZMNSLFooqidqJr36y/9o03yt/W191oM9YXy9Y3+Vi9tUWYu+RFCWCiRthAmYKmkTRSILLklLw7whMJqAK73RrRE34gAiejoGORp3pb0Vltwq14kw1wtQ3L9nvmkjTCQEmWTHWdTupacdJs2bapombxE0KQlJWSDvHjNRWaJGPkwRKgct0TFa9Jpg42A9WVKlK1+hIzsiBY6e1ae2qpd5El6w8Xm+hGb7ZE2w7P6iSSqCxF06+xWETPptUWdDT13G/W/Mz7JmbK130WR9a/Pj8Aa6vUZeq/PUznqpu+1gQy6/IvP0GeiHP1MJIlppC2EMCmRthAmwEGXWJAvJwi0hM1FhIcodURKOnPWRLngwE0E3EpDOoge2SA4nu+hRLLlwE92vCaN9G7lLR8CYehOWvPHCJLIkLwN0ZEEESJpRLwMG8q/pVEErcslGsREVIlkSSMfQuOWqMhDNE/95EnaCGbXSTooR9nqQ6i0v+d4KVcfEThl9lmaNnU1L0z+yhPZmg+fB+FSX3PKlCN//eM1dYF2eV7e+lLbXBS3+0Pfk0b3+4zPHu5Uf/2qPoS4I5/6XN8QY+9Xpk17pFEn9bFJRwS7ndpFGLsvQgjhr8jaoyFMANEQWQEJGRcpIS0O5ESGPDhot3iNIk1PdCdOhtNAoIgKMfA+EuE56UmYPN0nJfKW1uukQFobkSJRIlfSETDPS+PrrzzlKl9enpNPl0toyIc6SUeOtAfy7vwIjHLUi5hIrzz5qVtHpUik+8RGOvm5lVaZBM971EU6UkOium3zoR9Ez7xPeuVIT7hImHq3QKqnfJTfMqn+ytIun6s+6TzcVzfCJx0Jc+s15cnX+3qZMWlb2pTVkqgcz4m86ifvV6bX1COEELZFpC2EEEIIYQrI2aMhhBBCCFNApC2EEEIIYQqItIUQQgghTAGRthBCCCGEKSDSFkIIIYQwBUTaQgghhBCmgEhbCCGEEMIUEGkLIYQQQpgCIm0hhBBCCFNApC2EEEIIYQqItIUQQgghTAGRthBCCCGEKSDSFkIIIYQwBUTaQgghhBD+9gzDfwFth34T1A+PWwAAAABJRU5ErkJggg==)"
      ],
      "metadata": {
        "id": "r1Qg430WIs5B"
      }
    },
    {
      "cell_type": "code",
      "source": [
        "# # BEST BINARY - 51%\n",
        "\n",
        "# def build_embedding_classifier_model(embedding_dim, output_bias=None):\n",
        "\n",
        "#   if output_bias is not None:\n",
        "#     output_bias = tf.keras.initializers.Constant(output_bias)\n",
        "\n",
        "#   str_sequences_input = keras.Input(shape=(embedding_dim,))\n",
        "#   embedded_sequences = glove_embedding_layer(str_sequences_input)\n",
        "#   x = layers.Conv1D(64, 7, input_shape=[None, str_sequences_input])(embedded_sequences)\n",
        "#   #x = Dropout(0.05)(x)\n",
        "#   x = layers.MaxPooling1D(3)(x)\n",
        "#   x = layers.Conv1D(128, 7)(x)\n",
        "#   #x = Dropout(0.05)(x)\n",
        "#   x = layers.MaxPooling1D(3)(x)\n",
        "#   x = layers.Conv1D(64, 7)(x)\n",
        "#   #x = Dropout(0.05)(x)\n",
        "#   x = layers.MaxPooling1D(3)(x)\n",
        "#   x = layers.Conv1D(32, 7)(x)\n",
        "#   #x = Dropout(0.05)(x)\n",
        "#   x = layers.GlobalMaxPooling1D()(x)\n",
        "#   x = layers.BatchNormalization()(x)\n",
        "#   x = layers.Dense(8, activation=\"relu\")(x)\n",
        "#   x = layers.Dropout(0.15)(x)\n",
        "#   preds = layers.Dense(len(list(np.unique(train_labels))), activation='softmax')(x)\n",
        "#   model = keras.Model(str_sequences_input, preds)\n",
        "#   print(model.summary())\n",
        "\n",
        "#   return model\n",
        "\n",
        "# embedding_stock_model = build_embedding_classifier_model(embedding_dim)"
      ],
      "metadata": {
        "id": "7DachsSsIu_-"
      },
      "execution_count": null,
      "outputs": []
    },
    {
      "cell_type": "markdown",
      "source": [
        "![image.png](data:image/png;base64,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)"
      ],
      "metadata": {
        "id": "sHYAxMq2dzCG"
      }
    }
  ],
  "metadata": {
    "colab": {
      "provenance": [],
      "authorship_tag": "ABX9TyO0WYeR2A345/bkG2B5gnqC",
      "include_colab_link": true
    },
    "kernelspec": {
      "display_name": "Python 3",
      "name": "python3"
    },
    "language_info": {
      "name": "python"
    }
  },
  "nbformat": 4,
  "nbformat_minor": 0
}